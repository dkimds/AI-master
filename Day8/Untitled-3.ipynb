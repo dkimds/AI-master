{
 "cells": [
  {
   "cell_type": "code",
   "execution_count": 2,
   "metadata": {},
   "outputs": [],
   "source": [
    "import pandas as pd\n",
    "import numpy as np\n",
    "import tensorflow as tf\n",
    "\n",
    "from tensorflow.keras.models import load_model\n",
    "from sklearn.preprocessing import StandardScaler\n",
    "from sklearn.metrics import mean_absolute_error"
   ]
  },
  {
   "cell_type": "code",
   "execution_count": 3,
   "metadata": {},
   "outputs": [],
   "source": [
    "full_data = [\n",
    "    [819, 823, 816, 1053600, 820.450012],\n",
    "    [816, 820.958984, 815.48999, 1198100, 819.23999],\n",
    "    [811.700012, 815.25, 809.780029, 1129100, 813.669983],\n",
    "    [809.51001, 810.659973, 804.539978, 989700, 809.559998],\n",
    "    [807, 811.840027, 803.190002, 1155300, 808.380005],\n",
    "    [803.98999, 810.5, 801.780029, 1235200, 806.969971],\n",
    "    [799.700012, 801.669983, 795.25, 1174200, 801.340027],\n",
    "    [802.98999, 806, 800.369995, 1460400, 801.48999],\n",
    "    [793.799988, 802.700012, 792, 1525800, 798.530029],\n",
    "    [799.679993, 801.190002, 791.190002, 2023300, 795.695007]\n",
    "]"
   ]
  },
  {
   "cell_type": "code",
   "execution_count": 9,
   "metadata": {},
   "outputs": [],
   "source": [
    "df = pd.DataFrame(full_data, columns=['Open', 'High', 'Low', 'Volume', 'Close'])\n",
    "random_samples = df.sample(n=5, random_state=42)\n",
    "# 데이터 및 레이블 분리\n",
    "x_samples = random_samples[['Open', 'High', 'Low', 'Volume']]\n",
    "y_samples = random_samples['Close']"
   ]
  },
  {
   "cell_type": "code",
   "execution_count": 13,
   "metadata": {},
   "outputs": [
    {
     "name": "stdout",
     "output_type": "stream",
     "text": [
      "\u001b[1m1/1\u001b[0m \u001b[32m━━━━━━━━━━━━━━━━━━━━\u001b[0m\u001b[37m\u001b[0m \u001b[1m0s\u001b[0m 77ms/step\n",
      "예측값:\n",
      "[797.87946 818.9102  806.62897 820.0189  803.1508 ]\n",
      "실제값:\n",
      "[798.530029 819.23999  806.969971 820.450012 801.48999 ]\n",
      "오차 평균 (MAE): 0.682653767187503\n"
     ]
    }
   ],
   "source": [
    "# StandardScaler를 사용하여 데이터 정규화\n",
    "scaler_x = StandardScaler()\n",
    "x_samples_scaled = scaler_x.fit_transform(x_samples)\n",
    "scaler_y = StandardScaler()\n",
    "y_samples_scaled = scaler_y.fit_transform(y_samples.values.reshape(-1, 1))\n",
    "# 저장된 모델 로드\n",
    "model = load_model('model/24-0.0014.keras')\n",
    "# 예측 수행\n",
    "predictions_scaled = model. predict(x_samples_scaled)\n",
    "# 예측값 역변환\n",
    "predictions = scaler_y.inverse_transform(predictions_scaled)\n",
    "# 예측값과 실제값 출력\n",
    "print(\"예측값:\")\n",
    "print(predictions.flatten())\n",
    "print(\"실제값:\")\n",
    "print(y_samples.values)\n",
    "# 오차 평균 계산\n",
    "mae = mean_absolute_error (y_samples, predictions)\n",
    "print(f\"오차 평균 (MAE): {mae}\")"
   ]
  },
  {
   "cell_type": "code",
   "execution_count": null,
   "metadata": {},
   "outputs": [],
   "source": []
  }
 ],
 "metadata": {
  "kernelspec": {
   "display_name": "base",
   "language": "python",
   "name": "python3"
  },
  "language_info": {
   "codemirror_mode": {
    "name": "ipython",
    "version": 3
   },
   "file_extension": ".py",
   "mimetype": "text/x-python",
   "name": "python",
   "nbconvert_exporter": "python",
   "pygments_lexer": "ipython3",
   "version": "3.11.7"
  }
 },
 "nbformat": 4,
 "nbformat_minor": 2
}
