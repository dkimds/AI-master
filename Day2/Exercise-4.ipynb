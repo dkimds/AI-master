{
 "cells": [
  {
   "cell_type": "code",
   "execution_count": 7,
   "metadata": {},
   "outputs": [
    {
     "name": "stderr",
     "output_type": "stream",
     "text": [
      "C:\\Users\\harmo\\AppData\\Local\\Temp\\ipykernel_19976\\2284259177.py:27: DeprecationWarning: Conversion of an array with ndim > 0 to a scalar is deprecated, and will error in future. Ensure you extract a single element from your array before performing this operation. (Deprecated NumPy 1.25.)\n",
      "  print(\"Epoch: %.f, RMSE = %.04f, 기울기 a1=%.4f, 기울기 a2=%.4f, y절편 B=%.4f\"%\n"
     ]
    },
    {
     "name": "stdout",
     "output_type": "stream",
     "text": [
      "Epoch: 0, RMSE = 49.1842, 기울기 a1=7.5270, 기울기 a2=7.8160, y절편 B=80.5980\n",
      "Epoch: 100, RMSE = 1.8368, 기울기 a1=1.1306, 기울기 a2=2.1316, y절편 B=78.5119\n",
      "Epoch: 200, RMSE = 1.8370, 기울기 a1=1.1879, 기울기 a2=2.1487, y절편 B=78.1057\n",
      "Epoch: 300, RMSE = 1.8370, 기울기 a1=1.2122, 기울기 a2=2.1571, y절편 B=77.9352\n",
      "Epoch: 400, RMSE = 1.8370, 기울기 a1=1.2226, 기울기 a2=2.1607, y절편 B=77.8636\n",
      "Epoch: 500, RMSE = 1.8370, 기울기 a1=1.2269, 기울기 a2=2.1622, y절편 B=77.8335\n",
      "Epoch: 600, RMSE = 1.8370, 기울기 a1=1.2288, 기울기 a2=2.1628, y절편 B=77.8208\n",
      "Epoch: 700, RMSE = 1.8370, 기울기 a1=1.2295, 기울기 a2=2.1631, y절편 B=77.8155\n",
      "Epoch: 800, RMSE = 1.8370, 기울기 a1=1.2299, 기울기 a2=2.1632, y절편 B=77.8133\n",
      "Epoch: 900, RMSE = 1.8370, 기울기 a1=1.2300, 기울기 a2=2.1632, y절편 B=77.8124\n",
      "Epoch: 1000, RMSE = 1.8370, 기울기 a1=1.2301, 기울기 a2=2.1633, y절편 B=77.8120\n",
      "Epoch: 1100, RMSE = 1.8370, 기울기 a1=1.2301, 기울기 a2=2.1633, y절편 B=77.8118\n",
      "Epoch: 1200, RMSE = 1.8370, 기울기 a1=1.2301, 기울기 a2=2.1633, y절편 B=77.8117\n",
      "Epoch: 1300, RMSE = 1.8370, 기울기 a1=1.2301, 기울기 a2=2.1633, y절편 B=77.8117\n",
      "Epoch: 1400, RMSE = 1.8370, 기울기 a1=1.2301, 기울기 a2=2.1633, y절편 B=77.8117\n",
      "Epoch: 1500, RMSE = 1.8370, 기울기 a1=1.2301, 기울기 a2=2.1633, y절편 B=77.8117\n",
      "Epoch: 1600, RMSE = 1.8370, 기울기 a1=1.2301, 기울기 a2=2.1633, y절편 B=77.8117\n",
      "Epoch: 1700, RMSE = 1.8370, 기울기 a1=1.2301, 기울기 a2=2.1633, y절편 B=77.8117\n",
      "Epoch: 1800, RMSE = 1.8370, 기울기 a1=1.2301, 기울기 a2=2.1633, y절편 B=77.8117\n",
      "Epoch: 1900, RMSE = 1.8370, 기울기 a1=1.2301, 기울기 a2=2.1633, y절편 B=77.8117\n",
      "Epoch: 2000, RMSE = 1.8370, 기울기 a1=1.2301, 기울기 a2=2.1633, y절편 B=77.8117\n"
     ]
    }
   ],
   "source": [
    "import tensorflow.compat.v1 as tf\n",
    "tf.disable_v2_behavior()\n",
    "\n",
    "data = [[2, 0, 81], [4, 4, 93], [6, 2, 91], [8, 3, 97]]\n",
    "x1 = [x_row1[0] for x_row1 in data]\n",
    "x2 = [x_row2[1] for x_row2 in data]\n",
    "y_data = [y_row[2] for y_row in data]\n",
    "\n",
    "a1 = tf.Variable(tf.random_uniform([1], 0 ,10, dtype=tf.float64, seed=0))\n",
    "b = tf.Variable(tf.random_uniform([1], 0 ,100, dtype=tf.float64, seed=0))\n",
    "\n",
    "a2 = tf.Variable(tf.random_uniform([1], 0 ,10, dtype=tf.float64, seed=0))\n",
    "\n",
    "y = a1 * x1 + a2*x2 + b\n",
    "\n",
    "rmse = tf.sqrt(tf.reduce_mean(tf.square(y - y_data)))\n",
    "\n",
    "learning_rate = 0.1\n",
    "\n",
    "gradient_decent = tf.train.GradientDescentOptimizer(learning_rate).minimize(rmse)\n",
    "\n",
    "with tf.Session() as sess:\n",
    "    sess.run(tf.global_variables_initializer())\n",
    "    for step in range(2001):\n",
    "        sess.run(gradient_decent)\n",
    "        if step%100 ==0:\n",
    "            print(\"Epoch: %.f, RMSE = %.04f, 기울기 a1=%.4f, 기울기 a2=%.4f, y절편 B=%.4f\"%\n",
    "                  (step,sess.run(rmse), sess.run(a1),sess.run(a2), sess.run(b)))"
   ]
  },
  {
   "cell_type": "code",
   "execution_count": 13,
   "metadata": {},
   "outputs": [
    {
     "data": {
      "text/plain": [
       "<tf.Tensor 'sub_4:0' shape=() dtype=float64>"
      ]
     },
     "execution_count": 13,
     "metadata": {},
     "output_type": "execute_result"
    }
   ],
   "source": [
    "y_data[0] - y[0]"
   ]
  },
  {
   "cell_type": "code",
   "execution_count": 14,
   "metadata": {},
   "outputs": [
    {
     "name": "stdout",
     "output_type": "stream",
     "text": [
      "[80.2772, 91.39059999999999, 89.5242, 94.14769999999999]\n",
      "다중 선형회귀 점수 평균 : 88.834925\n",
      "다중 선형회귀 오차 평균 : 1.6650750000000087\n"
     ]
    }
   ],
   "source": [
    "m_a1 = 1.2301\n",
    "m_a2 = 2.1633\n",
    "m_b = 77.817\n",
    "m_result_y = []\n",
    "for i in range(4):\n",
    "    m_result_y.append(m_a1*x1[i] + m_a2*x2[i] + m_b)\n",
    "    \n",
    "print(m_result_y)\n",
    "m_avr = sum(m_result_y)/4\n",
    "print('다중 선형회귀 점수 평균 :', m_avr)\n",
    "\n",
    "m_diff_y = []\n",
    "for i in range(4):\n",
    "    m_diff_y.append(abs(y_data[i] - m_result_y[i]))\n",
    "    \n",
    "avr_d1 = sum(m_diff_y) /4\n",
    "print('다중 선형회귀 오차 평균 :', avr_d1)"
   ]
  },
  {
   "cell_type": "code",
   "execution_count": 16,
   "metadata": {},
   "outputs": [
    {
     "name": "stdout",
     "output_type": "stream",
     "text": [
      "[83.6, 88.2, 92.8, 97.4]\n",
      "단순 선형회귀 점수 평균 : 90.5\n",
      "단순 선형회귀 오차 평균 : 2.3999999999999986\n"
     ]
    }
   ],
   "source": [
    "s_a1 = 2.3\n",
    "s_b = 79\n",
    "s_result_y = []\n",
    "for i in range(4):\n",
    "    s_result_y.append(s_a1*x1[i] + s_b)\n",
    "    \n",
    "print(s_result_y)\n",
    "s_avr2 = sum(s_result_y)/4\n",
    "print('단순 선형회귀 점수 평균 :', s_avr2)\n",
    "\n",
    "s_diff_y = []\n",
    "for i in range(4):\n",
    "    s_diff_y.append(abs(y_data[i] - s_result_y[i]))\n",
    "    \n",
    "avr_d2 = sum(s_diff_y)/4\n",
    "print('단순 선형회귀 오차 평균 :', avr_d2)"
   ]
  },
  {
   "cell_type": "code",
   "execution_count": null,
   "metadata": {},
   "outputs": [],
   "source": []
  }
 ],
 "metadata": {
  "kernelspec": {
   "display_name": "base",
   "language": "python",
   "name": "python3"
  },
  "language_info": {
   "codemirror_mode": {
    "name": "ipython",
    "version": 3
   },
   "file_extension": ".py",
   "mimetype": "text/x-python",
   "name": "python",
   "nbconvert_exporter": "python",
   "pygments_lexer": "ipython3",
   "version": "3.12.4"
  }
 },
 "nbformat": 4,
 "nbformat_minor": 2
}
