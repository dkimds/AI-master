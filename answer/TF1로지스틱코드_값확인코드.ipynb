{
 "cells": [
  {
   "cell_type": "code",
   "execution_count": 1,
   "id": "5b710e36-1de2-433e-a3e7-aab72f241611",
   "metadata": {},
   "outputs": [
    {
     "name": "stdout",
     "output_type": "stream",
     "text": [
      "WARNING:tensorflow:From C:\\Users\\fasof\\AppData\\Local\\Temp\\ipykernel_21852\\2380685334.py:2: The name tf.disable_v2_behavior is deprecated. Please use tf.compat.v1.disable_v2_behavior instead.\n",
      "\n",
      "WARNING:tensorflow:From C:\\ProgramData\\anaconda3\\envs\\GPUW\\lib\\site-packages\\tensorflow\\python\\compat\\v2_compat.py:98: disable_resource_variables (from tensorflow.python.ops.resource_variables_toggle) is deprecated and will be removed in a future version.\n",
      "Instructions for updating:\n",
      "non-resource variables are not supported in the long term\n"
     ]
    }
   ],
   "source": [
    "import tensorflow.compat.v1 as tf \n",
    "tf.disable_v2_behavior()\n",
    "import numpy as np\n",
    "\n",
    "# x, y의 데이터 값\n",
    "data = [[2, 0], [4, 0], [6, 0], [8, 1], [10, 1], [12, 1], [14, 1]]\n",
    "x_data = [x_row[0] for x_row in data]\n",
    "y_data = [y_row[1] for y_row in data]\n",
    "\n",
    "# a와 b의 값을 임의로 정한다.\n",
    "a = tf.Variable(tf.random_normal([1], dtype=tf.float64, seed=0))\n",
    "b = tf.Variable(tf.random_normal([1], dtype=tf.float64, seed=0))\n",
    "\n",
    "# y 시그모이드 함수의 방정식을 세운다.\n",
    "y = 1/(1 + np.e**-(a * x_data + b))\n"
   ]
  },
  {
   "cell_type": "code",
   "execution_count": 4,
   "id": "87fac1fe-11b5-44ab-a384-f94a8c457e34",
   "metadata": {},
   "outputs": [
    {
     "name": "stderr",
     "output_type": "stream",
     "text": [
      "C:\\Users\\fasof\\AppData\\Local\\Temp\\ipykernel_21852\\2556384111.py:17: DeprecationWarning: Conversion of an array with ndim > 0 to a scalar is deprecated, and will error in future. Ensure you extract a single element from your array before performing this operation. (Deprecated NumPy 1.25.)\n",
      "  print(\"Epoch: %.f, loss = %.4f, 기울기 a = %.4f, y 절편 = %.4f\" %\n"
     ]
    },
    {
     "name": "stdout",
     "output_type": "stream",
     "text": [
      "Epoch: 0, loss = 4.0817, 기울기 a = 2.4706, y 절편 = -0.3620\n",
      "Epoch: 6000, loss = 0.0152, 기울기 a = 2.9230, y 절편 = -20.3114\n",
      "Epoch: 12000, loss = 0.0081, 기울기 a = 3.5648, y 절편 = -24.8081\n",
      "Epoch: 18000, loss = 0.0055, 기울기 a = 3.9564, y 절편 = -27.5511\n",
      "Epoch: 24000, loss = 0.0041, 기울기 a = 4.2385, y 절편 = -29.5268\n",
      "Epoch: 30000, loss = 0.0033, 기울기 a = 4.4590, y 절편 = -31.0705\n",
      "Epoch: 36000, loss = 0.0028, 기울기 a = 4.6399, y 절편 = -32.3371\n",
      "Epoch: 42000, loss = 0.0024, 기울기 a = 4.7933, y 절편 = -33.4107\n",
      "Epoch: 48000, loss = 0.0021, 기울기 a = 4.9263, y 절편 = -34.3424\n",
      "Epoch: 54000, loss = 0.0019, 기울기 a = 5.0439, y 절편 = -35.1653\n",
      "Epoch: 60000, loss = 0.0017, 기울기 a = 5.1491, y 절편 = -35.9020\n",
      "[3.88235158e-05]\n",
      "3.882351579765383e-05\n",
      "[0.53537986]\n",
      "0.5353798637651634\n",
      "[1.]\n",
      "0.9999999999999669\n",
      "Tensor(\"truediv_3:0\", shape=(1,), dtype=float64)\n"
     ]
    }
   ],
   "source": [
    "# loss를 구하는 함수\n",
    "loss = -tf.reduce_mean(np.array(y_data) * tf.log(y) + (1 - np.array(y_data)) *\n",
    "        tf.log(1 - y))\n",
    "\n",
    "# 학습률 값\n",
    "learning_rate = 0.5\n",
    "\n",
    "# loss를 최소로 하는 값 찾기\n",
    "gradient_decent = tf.train.GradientDescentOptimizer(learning_rate).minimize(loss)\n",
    "\n",
    "# 학습\n",
    "with tf.Session() as sess:\n",
    "    sess.run(tf.global_variables_initializer())\n",
    "    for i in range(60001):\n",
    "        sess.run(gradient_decent)\n",
    "        if i % 6000 == 0:\n",
    "            print(\"Epoch: %.f, loss = %.4f, 기울기 a = %.4f, y 절편 = %.4f\" % \n",
    "                    (i, sess.run(loss), sess.run(a), sess.run(b)))\n",
    "    new_x_data = 5\n",
    "    y_test = 1 / (1 + np.e**-((a*new_x_data)+b))\n",
    "    print(sess.run(y_test))\n",
    "    print(sess.run(y_test[0]))\n",
    "    new_x_data = 7\n",
    "    y_test = 1 / (1 + np.e**-((a*new_x_data)+b))\n",
    "    print(sess.run(y_test))\n",
    "    print(sess.run(y_test[0]))\n",
    "    new_x_data = 13\n",
    "    y_test = 1 / (1+np.e**-((a*new_x_data)+b))\n",
    "    print(sess.run(y_test))\n",
    "    print(sess.run(y_test[0]))\n",
    "    print(y_test)"
   ]
  },
  {
   "cell_type": "code",
   "execution_count": 5,
   "id": "d8d3ddd1-8489-4024-8f43-cd43c4ec50dd",
   "metadata": {},
   "outputs": [
    {
     "name": "stderr",
     "output_type": "stream",
     "text": [
      "C:\\Users\\fasof\\AppData\\Local\\Temp\\ipykernel_21852\\2145632760.py:7: DeprecationWarning: Conversion of an array with ndim > 0 to a scalar is deprecated, and will error in future. Ensure you extract a single element from your array before performing this operation. (Deprecated NumPy 1.25.)\n",
      "  print(\"Epoch: %.f, loss = %.4f, 기울기 a = %.4f, y 절편 = %.4f\" %\n"
     ]
    },
    {
     "name": "stdout",
     "output_type": "stream",
     "text": [
      "Epoch: 0, loss = 4.0817, 기울기 a = 2.4706, y 절편 = -0.3620\n",
      "Epoch: 6000, loss = 0.0152, 기울기 a = 2.9230, y 절편 = -20.3114\n",
      "Epoch: 12000, loss = 0.0081, 기울기 a = 3.5648, y 절편 = -24.8081\n",
      "Epoch: 18000, loss = 0.0055, 기울기 a = 3.9564, y 절편 = -27.5511\n",
      "Epoch: 24000, loss = 0.0041, 기울기 a = 4.2385, y 절편 = -29.5268\n",
      "Epoch: 30000, loss = 0.0033, 기울기 a = 4.4590, y 절편 = -31.0705\n",
      "Epoch: 36000, loss = 0.0028, 기울기 a = 4.6399, y 절편 = -32.3371\n",
      "Epoch: 42000, loss = 0.0024, 기울기 a = 4.7933, y 절편 = -33.4107\n",
      "Epoch: 48000, loss = 0.0021, 기울기 a = 4.9263, y 절편 = -34.3424\n",
      "Epoch: 54000, loss = 0.0019, 기울기 a = 5.0439, y 절편 = -35.1653\n",
      "Epoch: 60000, loss = 0.0017, 기울기 a = 5.1491, y 절편 = -35.9020\n",
      "[3.88235158e-05]\n",
      "[0.53537986]\n",
      "[1.]\n"
     ]
    }
   ],
   "source": [
    "# 학습\n",
    "with tf.Session() as sess:\n",
    "    sess.run(tf.global_variables_initializer())\n",
    "    for i in range(60001):\n",
    "        sess.run(gradient_decent)\n",
    "        if i % 6000 == 0:\n",
    "            print(\"Epoch: %.f, loss = %.4f, 기울기 a = %.4f, y 절편 = %.4f\" % \n",
    "                    (i, sess.run(loss), sess.run(a), sess.run(b)))\n",
    "    calc_a = sess.run(a)\n",
    "    calc_b = sess.run(b)\n",
    "\n",
    "def NewDataCalc(new_x_data):\n",
    "    return 1 / (1 + np.e**-((calc_a * new_x_data) + calc_b))\n",
    "print(NewDataCalc(5))\n",
    "print(NewDataCalc(7))\n",
    "print(NewDataCalc(13))\n",
    "\n"
   ]
  },
  {
   "cell_type": "code",
   "execution_count": 6,
   "id": "291b60e1-a1d1-4a4b-914e-1cb1e880605d",
   "metadata": {},
   "outputs": [
    {
     "name": "stderr",
     "output_type": "stream",
     "text": [
      "C:\\Users\\fasof\\AppData\\Local\\Temp\\ipykernel_21852\\2998255119.py:7: DeprecationWarning: Conversion of an array with ndim > 0 to a scalar is deprecated, and will error in future. Ensure you extract a single element from your array before performing this operation. (Deprecated NumPy 1.25.)\n",
      "  print(\"Epoch: %.f, loss = %.4f, 기울기 a = %.4f, y 절편 = %.4f\" %\n"
     ]
    },
    {
     "name": "stdout",
     "output_type": "stream",
     "text": [
      "Epoch: 0, loss = 4.0817, 기울기 a = 2.4706, y 절편 = -0.3620\n",
      "Epoch: 6000, loss = 0.0152, 기울기 a = 2.9230, y 절편 = -20.3114\n",
      "Epoch: 12000, loss = 0.0081, 기울기 a = 3.5648, y 절편 = -24.8081\n",
      "Epoch: 18000, loss = 0.0055, 기울기 a = 3.9564, y 절편 = -27.5511\n",
      "Epoch: 24000, loss = 0.0041, 기울기 a = 4.2385, y 절편 = -29.5268\n",
      "Epoch: 30000, loss = 0.0033, 기울기 a = 4.4590, y 절편 = -31.0705\n",
      "Epoch: 36000, loss = 0.0028, 기울기 a = 4.6399, y 절편 = -32.3371\n",
      "Epoch: 42000, loss = 0.0024, 기울기 a = 4.7933, y 절편 = -33.4107\n",
      "Epoch: 48000, loss = 0.0021, 기울기 a = 4.9263, y 절편 = -34.3424\n",
      "Epoch: 54000, loss = 0.0019, 기울기 a = 5.0439, y 절편 = -35.1653\n",
      "Epoch: 60000, loss = 0.0017, 기울기 a = 5.1491, y 절편 = -35.9020\n",
      "[3.88235158e-05 5.35379864e-01 1.00000000e+00]\n"
     ]
    }
   ],
   "source": [
    "# 학습\n",
    "with tf.Session() as sess:\n",
    "    sess.run(tf.global_variables_initializer())\n",
    "    for i in range(60001):\n",
    "        sess.run(gradient_decent)\n",
    "        if i % 6000 == 0:\n",
    "            print(\"Epoch: %.f, loss = %.4f, 기울기 a = %.4f, y 절편 = %.4f\" % \n",
    "                    (i, sess.run(loss), sess.run(a), sess.run(b)))\n",
    "    calc_a = sess.run(a)\n",
    "    calc_b = sess.run(b)\n",
    "\n",
    "dx = [5, 7, 13]\n",
    "calc_y = 1 / (1 + np.e**-(calc_a * dx + calc_b))\n",
    "print(calc_y)\n",
    "\n"
   ]
  },
  {
   "cell_type": "code",
   "execution_count": null,
   "id": "aca5558a-5540-42ff-9ef4-6d9814ba91d9",
   "metadata": {},
   "outputs": [],
   "source": []
  }
 ],
 "metadata": {
  "kernelspec": {
   "display_name": "Python 3 (ipykernel)",
   "language": "python",
   "name": "python3"
  },
  "language_info": {
   "codemirror_mode": {
    "name": "ipython",
    "version": 3
   },
   "file_extension": ".py",
   "mimetype": "text/x-python",
   "name": "python",
   "nbconvert_exporter": "python",
   "pygments_lexer": "ipython3",
   "version": "3.10.14"
  }
 },
 "nbformat": 4,
 "nbformat_minor": 5
}
