{
 "cells": [
  {
   "cell_type": "code",
   "execution_count": 1,
   "metadata": {},
   "outputs": [
    {
     "name": "stdout",
     "output_type": "stream",
     "text": [
      "WARNING:tensorflow:From C:\\Users\\harmo\\AppData\\Local\\Temp\\ipykernel_24476\\4060628303.py:2: The name tf.disable_v2_behavior is deprecated. Please use tf.compat.v1.disable_v2_behavior instead.\n",
      "\n",
      "WARNING:tensorflow:From c:\\Users\\harmo\\anaconda3\\Lib\\site-packages\\tensorflow\\python\\compat\\v2_compat.py:98: disable_resource_variables (from tensorflow.python.ops.resource_variables_toggle) is deprecated and will be removed in a future version.\n",
      "Instructions for updating:\n",
      "non-resource variables are not supported in the long term\n",
      "10.5\n"
     ]
    }
   ],
   "source": [
    "import tensorflow.compat.v1 as tf\n",
    "tf.disable_v2_behavior()\n",
    "a = tf.constant(7.0, name='data1')\n",
    "b = tf.constant(3.0, name='data1')\n",
    "c = tf.constant(2.0, name='data1')\n",
    "\n",
    "v = a*b/c\n",
    "\n",
    "with tf.Session() as sess:\n",
    "    sess.run(tf.global_variables_initializer())\n",
    "    print(sess.run(v))"
   ]
  },
  {
   "cell_type": "code",
   "execution_count": 2,
   "metadata": {},
   "outputs": [
    {
     "name": "stdout",
     "output_type": "stream",
     "text": [
      "WARNING:tensorflow:From C:\\Users\\harmo\\AppData\\Local\\Temp\\ipykernel_24476\\2686541333.py:2: The name tf.disable_v2_behavior is deprecated. Please use tf.compat.v1.disable_v2_behavior instead.\n",
      "\n"
     ]
    }
   ],
   "source": [
    "import tensorflow.compat.v1 as tf\n",
    "tf.compat.v1.disable_v2_behavior()\n",
    "\n",
    "data = [[2, 81], [4, 93], [6, 91], [8, 97]]\n",
    "x_data = [x_row[0] for x_row in data]\n",
    "y_data = [y_row[1] for y_row in data]\n",
    "\n",
    "a = tf.Variable(tf.random_uniform([1], 0, 10, dtype=tf.float64, seed=0))\n",
    "b = tf.Variable(tf.random_uniform([1], 0, 100, dtype=tf.float64, seed=0))\n",
    "\n",
    "y = a * x_data + b"
   ]
  },
  {
   "cell_type": "code",
   "execution_count": 30,
   "metadata": {},
   "outputs": [
    {
     "name": "stderr",
     "output_type": "stream",
     "text": [
      "C:\\Users\\harmo\\AppData\\Local\\Temp\\ipykernel_24476\\314499569.py:12: DeprecationWarning: Conversion of an array with ndim > 0 to a scalar is deprecated, and will error in future. Ensure you extract a single element from your array before performing this operation. (Deprecated NumPy 1.25.)\n",
      "  print(\"Epoch: %.f, RMSE = %.04f, 기울기 a=%.4f, y절편 B=%.4f\"%\n"
     ]
    },
    {
     "name": "stdout",
     "output_type": "stream",
     "text": [
      "Epoch: 0, RMSE = 23.1596, 기울기 a=4.0295, y절편 B=4.0336\n",
      "Epoch: 100, RMSE = 20.5417, 기울기 a=3.5263, y절편 B=3.9410\n",
      "Epoch: 200, RMSE = 17.9273, 기울기 a=3.0235, y절편 B=3.8481\n",
      "Epoch: 300, RMSE = 15.3183, 기울기 a=2.5213, y절편 B=3.7547\n",
      "Epoch: 400, RMSE = 12.7177, 기울기 a=2.0201, y절편 B=3.6607\n",
      "Epoch: 500, RMSE = 10.1321, 기울기 a=1.5205, y절편 B=3.5660\n",
      "Epoch: 600, RMSE = 7.5763, 기울기 a=1.0241, y절편 B=3.4701\n",
      "Epoch: 700, RMSE = 5.0934, 기울기 a=0.5354, y절편 B=3.3725\n",
      "Epoch: 800, RMSE = 2.8566, 기울기 a=0.0732, y절편 B=3.2729\n",
      "Epoch: 900, RMSE = 1.5977, 기울기 a=-0.2634, y절편 B=3.1807\n",
      "Epoch: 1000, RMSE = 1.4352, 기울기 a=-0.3630, y절편 B=3.1189\n",
      "Epoch: 1100, RMSE = 1.4111, 기울기 a=-0.3734, y절편 B=3.0718\n",
      "Epoch: 1200, RMSE = 1.3911, 기울기 a=-0.3684, y절편 B=3.0274\n",
      "Epoch: 1300, RMSE = 1.3712, 기울기 a=-0.3610, y절편 B=2.9834\n",
      "Epoch: 1400, RMSE = 1.3513, 기울기 a=-0.3532, y절편 B=2.9394\n",
      "Epoch: 1500, RMSE = 1.3314, 기울기 a=-0.3454, y절편 B=2.8955\n",
      "Epoch: 1600, RMSE = 1.3115, 기울기 a=-0.3376, y절편 B=2.8516\n",
      "Epoch: 1700, RMSE = 1.2916, 기울기 a=-0.3298, y절편 B=2.8077\n",
      "Epoch: 1800, RMSE = 1.2717, 기울기 a=-0.3220, y절편 B=2.7638\n",
      "Epoch: 1900, RMSE = 1.2518, 기울기 a=-0.3142, y절편 B=2.7199\n",
      "Epoch: 2000, RMSE = 1.2319, 기울기 a=-0.3064, y절편 B=2.6759\n",
      "Epoch: 2100, RMSE = 1.2120, 기울기 a=-0.2986, y절편 B=2.6320\n",
      "Epoch: 2200, RMSE = 1.1921, 기울기 a=-0.2908, y절편 B=2.5881\n",
      "Epoch: 2300, RMSE = 1.1722, 기울기 a=-0.2830, y절편 B=2.5442\n",
      "Epoch: 2400, RMSE = 1.1523, 기울기 a=-0.2752, y절편 B=2.5003\n",
      "Epoch: 2500, RMSE = 1.1324, 기울기 a=-0.2673, y절편 B=2.4564\n",
      "Epoch: 2600, RMSE = 1.1126, 기울기 a=-0.2595, y절편 B=2.4125\n",
      "Epoch: 2700, RMSE = 1.0927, 기울기 a=-0.2517, y절편 B=2.3686\n",
      "Epoch: 2800, RMSE = 1.0728, 기울기 a=-0.2439, y절편 B=2.3247\n",
      "Epoch: 2900, RMSE = 1.0529, 기울기 a=-0.2361, y절편 B=2.2808\n",
      "Epoch: 3000, RMSE = 1.0331, 기울기 a=-0.2283, y절편 B=2.2370\n",
      "Epoch: 3100, RMSE = 1.0132, 기울기 a=-0.2205, y절편 B=2.1931\n",
      "Epoch: 3200, RMSE = 0.9934, 기울기 a=-0.2127, y절편 B=2.1492\n",
      "Epoch: 3300, RMSE = 0.9735, 기울기 a=-0.2049, y절편 B=2.1053\n",
      "Epoch: 3400, RMSE = 0.9537, 기울기 a=-0.1971, y절편 B=2.0615\n",
      "Epoch: 3500, RMSE = 0.9338, 기울기 a=-0.1893, y절편 B=2.0176\n",
      "Epoch: 3600, RMSE = 0.9140, 기울기 a=-0.1815, y절편 B=1.9738\n",
      "Epoch: 3700, RMSE = 0.8941, 기울기 a=-0.1737, y절편 B=1.9299\n",
      "Epoch: 3800, RMSE = 0.8743, 기울기 a=-0.1659, y절편 B=1.8861\n",
      "Epoch: 3900, RMSE = 0.8545, 기울기 a=-0.1581, y절편 B=1.8423\n",
      "Epoch: 4000, RMSE = 0.8347, 기울기 a=-0.1503, y절편 B=1.7984\n",
      "Epoch: 4100, RMSE = 0.8149, 기울기 a=-0.1425, y절편 B=1.7546\n",
      "Epoch: 4200, RMSE = 0.7951, 기울기 a=-0.1347, y절편 B=1.7108\n",
      "Epoch: 4300, RMSE = 0.7753, 기울기 a=-0.1269, y절편 B=1.6670\n",
      "Epoch: 4400, RMSE = 0.7555, 기울기 a=-0.1191, y절편 B=1.6232\n",
      "Epoch: 4500, RMSE = 0.7357, 기울기 a=-0.1114, y절편 B=1.5794\n",
      "Epoch: 4600, RMSE = 0.7160, 기울기 a=-0.1036, y절편 B=1.5357\n",
      "Epoch: 4700, RMSE = 0.6962, 기울기 a=-0.0958, y절편 B=1.4919\n",
      "Epoch: 4800, RMSE = 0.6765, 기울기 a=-0.0880, y절편 B=1.4482\n",
      "Epoch: 4900, RMSE = 0.6568, 기울기 a=-0.0802, y절편 B=1.4044\n",
      "Epoch: 5000, RMSE = 0.6370, 기울기 a=-0.0725, y절편 B=1.3607\n"
     ]
    }
   ],
   "source": [
    "rmse = tf.sqrt(tf.reduce_mean(tf.square(y - y_data)))\n",
    "\n",
    "learning_rate = 0.001\n",
    "\n",
    "gradient_decent = tf.train.GradientDescentOptimizer(learning_rate).minimize(rmse)\n",
    "\n",
    "with tf.Session() as sess:\n",
    "    sess.run(tf.global_variables_initializer())\n",
    "    for step in range(5001):\n",
    "        sess.run(gradient_decent)\n",
    "        if step%100 ==0:\n",
    "            print(\"Epoch: %.f, RMSE = %.04f, 기울기 a=%.4f, y절편 B=%.4f\"%\n",
    "                  (step,sess.run(rmse), sess.run(a), sess.run(b)))"
   ]
  },
  {
   "cell_type": "code",
   "execution_count": 36,
   "metadata": {},
   "outputs": [
    {
     "name": "stdout",
     "output_type": "stream",
     "text": [
      "Epoch: 0, RMSE = 0.8336, 기울기 a=0.0050, y절편 B=0.0009\n",
      "Epoch: 100, RMSE = 0.0763, 기울기 a=0.1664, y절편 B=0.0179\n",
      "Epoch: 200, RMSE = 0.0748, 기울기 a=0.1685, y절편 B=0.0059\n",
      "Epoch: 300, RMSE = 0.0739, 기울기 a=0.1702, y절편 B=-0.0035\n",
      "Epoch: 400, RMSE = 0.0734, 기울기 a=0.1715, y절편 B=-0.0108\n",
      "Epoch: 500, RMSE = 0.0730, 기울기 a=0.1725, y절편 B=-0.0163\n",
      "Epoch: 600, RMSE = 0.0729, 기울기 a=0.1732, y절편 B=-0.0205\n",
      "Epoch: 700, RMSE = 0.0728, 기울기 a=0.1738, y절편 B=-0.0237\n",
      "Epoch: 800, RMSE = 0.0727, 기울기 a=0.1742, y절편 B=-0.0262\n",
      "Epoch: 900, RMSE = 0.0727, 기울기 a=0.1745, y절편 B=-0.0281\n",
      "Epoch: 1000, RMSE = 0.0726, 기울기 a=0.1748, y절편 B=-0.0295\n",
      "Epoch: 1100, RMSE = 0.0726, 기울기 a=0.1750, y절편 B=-0.0305\n",
      "Epoch: 1200, RMSE = 0.0726, 기울기 a=0.1751, y절편 B=-0.0314\n",
      "Epoch: 1300, RMSE = 0.0726, 기울기 a=0.1752, y절편 B=-0.0320\n",
      "Epoch: 1400, RMSE = 0.0726, 기울기 a=0.1753, y절편 B=-0.0324\n",
      "Epoch: 1500, RMSE = 0.0726, 기울기 a=0.1754, y절편 B=-0.0328\n",
      "Epoch: 1600, RMSE = 0.0726, 기울기 a=0.1754, y절편 B=-0.0331\n",
      "Epoch: 1700, RMSE = 0.0726, 기울기 a=0.1755, y절편 B=-0.0333\n",
      "Epoch: 1800, RMSE = 0.0726, 기울기 a=0.1755, y절편 B=-0.0334\n",
      "Epoch: 1900, RMSE = 0.0726, 기울기 a=0.1755, y절편 B=-0.0336\n",
      "Epoch: 2000, RMSE = 0.0726, 기울기 a=0.1755, y절편 B=-0.0336\n",
      "Epoch: 2100, RMSE = 0.0726, 기울기 a=0.1756, y절편 B=-0.0337\n",
      "Epoch: 2200, RMSE = 0.0726, 기울기 a=0.1756, y절편 B=-0.0338\n",
      "Epoch: 2300, RMSE = 0.0726, 기울기 a=0.1756, y절편 B=-0.0338\n",
      "Epoch: 2400, RMSE = 0.0726, 기울기 a=0.1756, y절편 B=-0.0338\n",
      "Epoch: 2500, RMSE = 0.0726, 기울기 a=0.1756, y절편 B=-0.0339\n",
      "Epoch: 2600, RMSE = 0.0726, 기울기 a=0.1756, y절편 B=-0.0339\n",
      "Epoch: 2700, RMSE = 0.0726, 기울기 a=0.1756, y절편 B=-0.0339\n",
      "Epoch: 2800, RMSE = 0.0726, 기울기 a=0.1756, y절편 B=-0.0339\n",
      "Epoch: 2900, RMSE = 0.0726, 기울기 a=0.1756, y절편 B=-0.0339\n",
      "Epoch: 3000, RMSE = 0.0726, 기울기 a=0.1756, y절편 B=-0.0339\n",
      "Epoch: 3100, RMSE = 0.0726, 기울기 a=0.1756, y절편 B=-0.0339\n",
      "Epoch: 3200, RMSE = 0.0726, 기울기 a=0.1756, y절편 B=-0.0339\n",
      "Epoch: 3300, RMSE = 0.0726, 기울기 a=0.1756, y절편 B=-0.0339\n",
      "Epoch: 3400, RMSE = 0.0726, 기울기 a=0.1756, y절편 B=-0.0339\n",
      "Epoch: 3500, RMSE = 0.0726, 기울기 a=0.1756, y절편 B=-0.0339\n",
      "Epoch: 3600, RMSE = 0.0726, 기울기 a=0.1756, y절편 B=-0.0339\n",
      "Epoch: 3700, RMSE = 0.0726, 기울기 a=0.1756, y절편 B=-0.0339\n",
      "Epoch: 3800, RMSE = 0.0726, 기울기 a=0.1756, y절편 B=-0.0339\n",
      "Epoch: 3900, RMSE = 0.0726, 기울기 a=0.1756, y절편 B=-0.0339\n",
      "Epoch: 4000, RMSE = 0.0726, 기울기 a=0.1756, y절편 B=-0.0339\n",
      "Epoch: 4100, RMSE = 0.0726, 기울기 a=0.1756, y절편 B=-0.0339\n",
      "Epoch: 4200, RMSE = 0.0726, 기울기 a=0.1756, y절편 B=-0.0339\n",
      "Epoch: 4300, RMSE = 0.0726, 기울기 a=0.1756, y절편 B=-0.0339\n",
      "Epoch: 4400, RMSE = 0.0726, 기울기 a=0.1756, y절편 B=-0.0339\n",
      "Epoch: 4500, RMSE = 0.0726, 기울기 a=0.1756, y절편 B=-0.0339\n",
      "Epoch: 4600, RMSE = 0.0726, 기울기 a=0.1756, y절편 B=-0.0339\n",
      "Epoch: 4700, RMSE = 0.0726, 기울기 a=0.1756, y절편 B=-0.0339\n",
      "Epoch: 4800, RMSE = 0.0726, 기울기 a=0.1756, y절편 B=-0.0339\n",
      "Epoch: 4900, RMSE = 0.0726, 기울기 a=0.1756, y절편 B=-0.0339\n",
      "Epoch: 5000, RMSE = 0.0726, 기울기 a=0.1756, y절편 B=-0.0339\n"
     ]
    }
   ],
   "source": [
    "\n",
    "data = [[1, 0.2], [2, 0.3], [3, 0.5], [4, 0.6], [5, 0.9], [6, 0.95], [7, 1.1], [8, 1.5]]\n",
    "x_data = [x_row[0] for x_row in data]\n",
    "y_data = [y_row[1] for y_row in data]\n",
    "\n",
    "a = tf.Variable(0., dtype=tf.float64, seed=0)\n",
    "b = tf.Variable(0., dtype=tf.float64, seed=0)\n",
    "\n",
    "y = a * x_data + b\n",
    "\n",
    "rmse = tf.sqrt(tf.reduce_mean(tf.square(y - y_data)))\n",
    "\n",
    "learning_rate = 0.001\n",
    "\n",
    "gradient_decent = tf.train.GradientDescentOptimizer(learning_rate).minimize(rmse)\n",
    "\n",
    "with tf.Session() as sess:\n",
    "    sess.run(tf.global_variables_initializer())\n",
    "    for step in range(5001):\n",
    "        sess.run(gradient_decent)\n",
    "        if step%100 ==0:\n",
    "            print(\"Epoch: %.f, RMSE = %.04f, 기울기 a=%.4f, y절편 B=%.4f\"%\n",
    "                  (step,sess.run(rmse), sess.run(a), sess.run(b)))"
   ]
  },
  {
   "cell_type": "code",
   "execution_count": null,
   "metadata": {},
   "outputs": [],
   "source": []
  }
 ],
 "metadata": {
  "kernelspec": {
   "display_name": "base",
   "language": "python",
   "name": "python3"
  },
  "language_info": {
   "codemirror_mode": {
    "name": "ipython",
    "version": 3
   },
   "file_extension": ".py",
   "mimetype": "text/x-python",
   "name": "python",
   "nbconvert_exporter": "python",
   "pygments_lexer": "ipython3",
   "version": "3.12.4"
  }
 },
 "nbformat": 4,
 "nbformat_minor": 2
}
