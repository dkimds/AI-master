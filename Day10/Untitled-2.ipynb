{
 "cells": [
  {
   "cell_type": "code",
   "execution_count": 6,
   "metadata": {},
   "outputs": [],
   "source": [
    "import tensorflow as tf\n",
    "from tensorflow.keras.datasets import fashion_mnist"
   ]
  },
  {
   "cell_type": "code",
   "execution_count": 7,
   "metadata": {},
   "outputs": [],
   "source": [
    "fashion_mnist = fashion_mnist\n",
    "(train_images, train_labels), (test_images, test_labels) = fashion_mnist.load_data()\n"
   ]
  },
  {
   "cell_type": "code",
   "execution_count": 8,
   "metadata": {},
   "outputs": [],
   "source": [
    "class_names = ['T-shirt/top', 'Trouser', 'Pullover', 'Dress', 'Coat',\n",
    "                'Sandal', 'Shirt', 'Sneaker', 'Bag', 'Ankle boot']"
   ]
  },
  {
   "cell_type": "code",
   "execution_count": 9,
   "metadata": {},
   "outputs": [
    {
     "name": "stdout",
     "output_type": "stream",
     "text": [
      "training set image: 60000 pieces\n",
      "test set image: 10000 pieces\n"
     ]
    }
   ],
   "source": [
    "print(\"training set image: %d pieces\" % (train_images.shape[0]))\n",
    "print(\"test set image: %d pieces\" % (test_images.shape[0]))"
   ]
  },
  {
   "cell_type": "code",
   "execution_count": 10,
   "metadata": {},
   "outputs": [
    {
     "data": {
      "image/png": "[encoded data removed]",
      "text/plain": [
       "<Figure size 640x480 with 1 Axes>"
      ]
     },
     "metadata": {},
     "output_type": "display_data"
    }
   ],
   "source": [
    "import matplotlib.pyplot as plt\n",
    "plt.imshow(train_images[0], cmap=\"Greys\")\n",
    "plt.show()"
   ]
  },
  {
   "cell_type": "code",
   "execution_count": 11,
   "metadata": {},
   "outputs": [],
   "source": [
    "X_train = train_images.reshape(train_images.shape[0], 784).astype('float32') /255\n",
    "X_test = test_images.reshape(test_images.shape[0], 784).astype('float32') /255"
   ]
  },
  {
   "cell_type": "code",
   "execution_count": 12,
   "metadata": {},
   "outputs": [],
   "source": [
    "Y_train = tf.keras.utils.to_categorical(train_labels, 10)\n",
    "Y_test = tf.keras.utils.to_categorical(test_labels, 10)"
   ]
  },
  {
   "cell_type": "code",
   "execution_count": 18,
   "metadata": {},
   "outputs": [],
   "source": [
    "from tensorflow.keras.models import Sequential \n",
    "from tensorflow.keras.layers import Dense, Flatten\n",
    "from sklearn.preprocessing import LabelEncoder\n",
    "from sklearn.model_selection import train_test_split\n",
    "\n",
    "import pandas as pd \n",
    "import seaborn as sns \n",
    "import matplotlib.pyplot as plt \n",
    "import numpy as np \n",
    "import tensorflow as tf\n",
    "seed = 0\n",
    "np.random.seed(seed)\n",
    "tf.random.set_seed(seed)"
   ]
  },
  {
   "cell_type": "code",
   "execution_count": 15,
   "metadata": {},
   "outputs": [
    {
     "data": {
      "text/plain": [
       "10"
      ]
     },
     "execution_count": 15,
     "metadata": {},
     "output_type": "execute_result"
    }
   ],
   "source": [
    "len(class_names)"
   ]
  },
  {
   "cell_type": "code",
   "execution_count": 16,
   "metadata": {},
   "outputs": [],
   "source": [
    "model = Sequential()\n",
    "model.add(Dense(128, activation='relu', input_shape=(784,)))\n",
    "model.add(Dense(10, activation='softmax'))\n",
    "\n",
    "# Compile the model\n",
    "model.compile(optimizer='adam', loss='categorical_crossentropy', metrics=['accuracy'])\n"
   ]
  },
  {
   "cell_type": "code",
   "execution_count": 17,
   "metadata": {},
   "outputs": [
    {
     "name": "stdout",
     "output_type": "stream",
     "text": [
      "Epoch 1/30\n",
      "\u001b[1m266/300\u001b[0m \u001b[32m━━━━━━━━━━━━━━━━━\u001b[0m\u001b[37m━━━\u001b[0m \u001b[1m0s\u001b[0m 954us/step - accuracy: 0.7136 - loss: 0.8490\n",
      "Epoch 1: val_loss improved from inf to 0.49346, saving model to model/01-0.4935.keras\n",
      "\u001b[1m300/300\u001b[0m \u001b[32m━━━━━━━━━━━━━━━━━━━━\u001b[0m\u001b[37m\u001b[0m \u001b[1m1s\u001b[0m 1ms/step - accuracy: 0.7232 - loss: 0.8200 - val_accuracy: 0.8284 - val_loss: 0.4935\n",
      "Epoch 2/30\n",
      "\u001b[1m256/300\u001b[0m \u001b[32m━━━━━━━━━━━━━━━━━\u001b[0m\u001b[37m━━━\u001b[0m \u001b[1m0s\u001b[0m 988us/step - accuracy: 0.8470 - loss: 0.4372\n",
      "Epoch 2: val_loss improved from 0.49346 to 0.45827, saving model to model/02-0.4583.keras\n",
      "\u001b[1m300/300\u001b[0m \u001b[32m━━━━━━━━━━━━━━━━━━━━\u001b[0m\u001b[37m\u001b[0m \u001b[1m0s\u001b[0m 1ms/step - accuracy: 0.8481 - loss: 0.4345 - val_accuracy: 0.8408 - val_loss: 0.4583\n",
      "Epoch 3/30\n",
      "\u001b[1m272/300\u001b[0m \u001b[32m━━━━━━━━━━━━━━━━━━\u001b[0m\u001b[37m━━\u001b[0m \u001b[1m0s\u001b[0m 930us/step - accuracy: 0.8625 - loss: 0.3860\n",
      "Epoch 3: val_loss improved from 0.45827 to 0.43721, saving model to model/03-0.4372.keras\n",
      "\u001b[1m300/300\u001b[0m \u001b[32m━━━━━━━━━━━━━━━━━━━━\u001b[0m\u001b[37m\u001b[0m \u001b[1m0s\u001b[0m 1ms/step - accuracy: 0.8630 - loss: 0.3850 - val_accuracy: 0.8468 - val_loss: 0.4372\n",
      "Epoch 4/30\n",
      "\u001b[1m272/300\u001b[0m \u001b[32m━━━━━━━━━━━━━━━━━━\u001b[0m\u001b[37m━━\u001b[0m \u001b[1m0s\u001b[0m 934us/step - accuracy: 0.8719 - loss: 0.3561\n",
      "Epoch 4: val_loss improved from 0.43721 to 0.41486, saving model to model/04-0.4149.keras\n",
      "\u001b[1m300/300\u001b[0m \u001b[32m━━━━━━━━━━━━━━━━━━━━\u001b[0m\u001b[37m\u001b[0m \u001b[1m0s\u001b[0m 1ms/step - accuracy: 0.8723 - loss: 0.3554 - val_accuracy: 0.8535 - val_loss: 0.4149\n",
      "Epoch 5/30\n",
      "\u001b[1m274/300\u001b[0m \u001b[32m━━━━━━━━━━━━━━━━━━\u001b[0m\u001b[37m━━\u001b[0m \u001b[1m0s\u001b[0m 922us/step - accuracy: 0.8799 - loss: 0.3338\n",
      "Epoch 5: val_loss improved from 0.41486 to 0.39868, saving model to model/05-0.3987.keras\n",
      "\u001b[1m300/300\u001b[0m \u001b[32m━━━━━━━━━━━━━━━━━━━━\u001b[0m\u001b[37m\u001b[0m \u001b[1m0s\u001b[0m 1ms/step - accuracy: 0.8801 - loss: 0.3334 - val_accuracy: 0.8592 - val_loss: 0.3987\n",
      "Epoch 6/30\n",
      "\u001b[1m268/300\u001b[0m \u001b[32m━━━━━━━━━━━━━━━━━\u001b[0m\u001b[37m━━━\u001b[0m \u001b[1m0s\u001b[0m 942us/step - accuracy: 0.8866 - loss: 0.3167\n",
      "Epoch 6: val_loss improved from 0.39868 to 0.38493, saving model to model/06-0.3849.keras\n",
      "\u001b[1m300/300\u001b[0m \u001b[32m━━━━━━━━━━━━━━━━━━━━\u001b[0m\u001b[37m\u001b[0m \u001b[1m0s\u001b[0m 1ms/step - accuracy: 0.8867 - loss: 0.3164 - val_accuracy: 0.8646 - val_loss: 0.3849\n",
      "Epoch 7/30\n",
      "\u001b[1m268/300\u001b[0m \u001b[32m━━━━━━━━━━━━━━━━━\u001b[0m\u001b[37m━━━\u001b[0m \u001b[1m0s\u001b[0m 941us/step - accuracy: 0.8913 - loss: 0.3023\n",
      "Epoch 7: val_loss improved from 0.38493 to 0.37359, saving model to model/07-0.3736.keras\n",
      "\u001b[1m300/300\u001b[0m \u001b[32m━━━━━━━━━━━━━━━━━━━━\u001b[0m\u001b[37m\u001b[0m \u001b[1m0s\u001b[0m 1ms/step - accuracy: 0.8914 - loss: 0.3022 - val_accuracy: 0.8688 - val_loss: 0.3736\n",
      "Epoch 8/30\n",
      "\u001b[1m249/300\u001b[0m \u001b[32m━━━━━━━━━━━━━━━━\u001b[0m\u001b[37m━━━━\u001b[0m \u001b[1m0s\u001b[0m 1ms/step - accuracy: 0.8943 - loss: 0.2897\n",
      "Epoch 8: val_loss improved from 0.37359 to 0.36452, saving model to model/08-0.3645.keras\n",
      "\u001b[1m300/300\u001b[0m \u001b[32m━━━━━━━━━━━━━━━━━━━━\u001b[0m\u001b[37m\u001b[0m \u001b[1m0s\u001b[0m 1ms/step - accuracy: 0.8946 - loss: 0.2896 - val_accuracy: 0.8717 - val_loss: 0.3645\n",
      "Epoch 9/30\n",
      "\u001b[1m275/300\u001b[0m \u001b[32m━━━━━━━━━━━━━━━━━━\u001b[0m\u001b[37m━━\u001b[0m \u001b[1m0s\u001b[0m 917us/step - accuracy: 0.8996 - loss: 0.2791\n",
      "Epoch 9: val_loss improved from 0.36452 to 0.36126, saving model to model/09-0.3613.keras\n",
      "\u001b[1m300/300\u001b[0m \u001b[32m━━━━━━━━━━━━━━━━━━━━\u001b[0m\u001b[37m\u001b[0m \u001b[1m0s\u001b[0m 1ms/step - accuracy: 0.8997 - loss: 0.2791 - val_accuracy: 0.8734 - val_loss: 0.3613\n",
      "Epoch 10/30\n",
      "\u001b[1m281/300\u001b[0m \u001b[32m━━━━━━━━━━━━━━━━━━\u001b[0m\u001b[37m━━\u001b[0m \u001b[1m0s\u001b[0m 904us/step - accuracy: 0.9027 - loss: 0.2689\n",
      "Epoch 10: val_loss improved from 0.36126 to 0.35623, saving model to model/10-0.3562.keras\n",
      "\u001b[1m300/300\u001b[0m \u001b[32m━━━━━━━━━━━━━━━━━━━━\u001b[0m\u001b[37m\u001b[0m \u001b[1m0s\u001b[0m 1ms/step - accuracy: 0.9027 - loss: 0.2690 - val_accuracy: 0.8741 - val_loss: 0.3562\n",
      "Epoch 11/30\n",
      "\u001b[1m278/300\u001b[0m \u001b[32m━━━━━━━━━━━━━━━━━━\u001b[0m\u001b[37m━━\u001b[0m \u001b[1m0s\u001b[0m 915us/step - accuracy: 0.9051 - loss: 0.2612\n",
      "Epoch 11: val_loss improved from 0.35623 to 0.35448, saving model to model/11-0.3545.keras\n",
      "\u001b[1m300/300\u001b[0m \u001b[32m━━━━━━━━━━━━━━━━━━━━\u001b[0m\u001b[37m\u001b[0m \u001b[1m0s\u001b[0m 1ms/step - accuracy: 0.9052 - loss: 0.2613 - val_accuracy: 0.8754 - val_loss: 0.3545\n",
      "Epoch 12/30\n",
      "\u001b[1m285/300\u001b[0m \u001b[32m━━━━━━━━━━━━━━━━━━━\u001b[0m\u001b[37m━\u001b[0m \u001b[1m0s\u001b[0m 890us/step - accuracy: 0.9087 - loss: 0.2533\n",
      "Epoch 12: val_loss improved from 0.35448 to 0.35306, saving model to model/12-0.3531.keras\n",
      "\u001b[1m300/300\u001b[0m \u001b[32m━━━━━━━━━━━━━━━━━━━━\u001b[0m\u001b[37m\u001b[0m \u001b[1m0s\u001b[0m 1ms/step - accuracy: 0.9087 - loss: 0.2534 - val_accuracy: 0.8755 - val_loss: 0.3531\n",
      "Epoch 13/30\n",
      "\u001b[1m281/300\u001b[0m \u001b[32m━━━━━━━━━━━━━━━━━━\u001b[0m\u001b[37m━━\u001b[0m \u001b[1m0s\u001b[0m 903us/step - accuracy: 0.9119 - loss: 0.2459\n",
      "Epoch 13: val_loss improved from 0.35306 to 0.35117, saving model to model/13-0.3512.keras\n",
      "\u001b[1m300/300\u001b[0m \u001b[32m━━━━━━━━━━━━━━━━━━━━\u001b[0m\u001b[37m\u001b[0m \u001b[1m0s\u001b[0m 1ms/step - accuracy: 0.9120 - loss: 0.2459 - val_accuracy: 0.8762 - val_loss: 0.3512\n",
      "Epoch 14/30\n",
      "\u001b[1m281/300\u001b[0m \u001b[32m━━━━━━━━━━━━━━━━━━\u001b[0m\u001b[37m━━\u001b[0m \u001b[1m0s\u001b[0m 900us/step - accuracy: 0.9143 - loss: 0.2392\n",
      "Epoch 14: val_loss improved from 0.35117 to 0.35048, saving model to model/14-0.3505.keras\n",
      "\u001b[1m300/300\u001b[0m \u001b[32m━━━━━━━━━━━━━━━━━━━━\u001b[0m\u001b[37m\u001b[0m \u001b[1m0s\u001b[0m 1ms/step - accuracy: 0.9143 - loss: 0.2392 - val_accuracy: 0.8750 - val_loss: 0.3505\n",
      "Epoch 15/30\n",
      "\u001b[1m286/300\u001b[0m \u001b[32m━━━━━━━━━━━━━━━━━━━\u001b[0m\u001b[37m━\u001b[0m \u001b[1m0s\u001b[0m 1ms/step - accuracy: 0.9161 - loss: 0.2330\n",
      "Epoch 15: val_loss did not improve from 0.35048\n",
      "\u001b[1m300/300\u001b[0m \u001b[32m━━━━━━━━━━━━━━━━━━━━\u001b[0m\u001b[37m\u001b[0m \u001b[1m0s\u001b[0m 1ms/step - accuracy: 0.9161 - loss: 0.2331 - val_accuracy: 0.8752 - val_loss: 0.3540\n",
      "Epoch 16/30\n",
      "\u001b[1m283/300\u001b[0m \u001b[32m━━━━━━━━━━━━━━━━━━\u001b[0m\u001b[37m━━\u001b[0m \u001b[1m0s\u001b[0m 894us/step - accuracy: 0.9177 - loss: 0.2274\n",
      "Epoch 16: val_loss did not improve from 0.35048\n",
      "\u001b[1m300/300\u001b[0m \u001b[32m━━━━━━━━━━━━━━━━━━━━\u001b[0m\u001b[37m\u001b[0m \u001b[1m0s\u001b[0m 998us/step - accuracy: 0.9177 - loss: 0.2275 - val_accuracy: 0.8761 - val_loss: 0.3535\n",
      "Epoch 17/30\n",
      "\u001b[1m286/300\u001b[0m \u001b[32m━━━━━━━━━━━━━━━━━━━\u001b[0m\u001b[37m━\u001b[0m \u001b[1m0s\u001b[0m 887us/step - accuracy: 0.9203 - loss: 0.2222\n",
      "Epoch 17: val_loss did not improve from 0.35048\n",
      "\u001b[1m300/300\u001b[0m \u001b[32m━━━━━━━━━━━━━━━━━━━━\u001b[0m\u001b[37m\u001b[0m \u001b[1m0s\u001b[0m 991us/step - accuracy: 0.9203 - loss: 0.2223 - val_accuracy: 0.8751 - val_loss: 0.3565\n",
      "Epoch 18/30\n",
      "\u001b[1m274/300\u001b[0m \u001b[32m━━━━━━━━━━━━━━━━━━\u001b[0m\u001b[37m━━\u001b[0m \u001b[1m0s\u001b[0m 923us/step - accuracy: 0.9216 - loss: 0.2172\n",
      "Epoch 18: val_loss did not improve from 0.35048\n",
      "\u001b[1m300/300\u001b[0m \u001b[32m━━━━━━━━━━━━━━━━━━━━\u001b[0m\u001b[37m\u001b[0m \u001b[1m0s\u001b[0m 1ms/step - accuracy: 0.9216 - loss: 0.2173 - val_accuracy: 0.8758 - val_loss: 0.3533\n",
      "Epoch 19/30\n",
      "\u001b[1m286/300\u001b[0m \u001b[32m━━━━━━━━━━━━━━━━━━━\u001b[0m\u001b[37m━\u001b[0m \u001b[1m0s\u001b[0m 1ms/step - accuracy: 0.9237 - loss: 0.2120\n",
      "Epoch 19: val_loss did not improve from 0.35048\n",
      "\u001b[1m300/300\u001b[0m \u001b[32m━━━━━━━━━━━━━━━━━━━━\u001b[0m\u001b[37m\u001b[0m \u001b[1m0s\u001b[0m 1ms/step - accuracy: 0.9237 - loss: 0.2121 - val_accuracy: 0.8772 - val_loss: 0.3540\n",
      "Epoch 20/30\n",
      "\u001b[1m295/300\u001b[0m \u001b[32m━━━━━━━━━━━━━━━━━━━\u001b[0m\u001b[37m━\u001b[0m \u001b[1m0s\u001b[0m 1ms/step - accuracy: 0.9252 - loss: 0.2075\n",
      "Epoch 20: val_loss did not improve from 0.35048\n",
      "\u001b[1m300/300\u001b[0m \u001b[32m━━━━━━━━━━━━━━━━━━━━\u001b[0m\u001b[37m\u001b[0m \u001b[1m0s\u001b[0m 1ms/step - accuracy: 0.9252 - loss: 0.2076 - val_accuracy: 0.8765 - val_loss: 0.3551\n",
      "Epoch 21/30\n",
      "\u001b[1m287/300\u001b[0m \u001b[32m━━━━━━━━━━━━━━━━━━━\u001b[0m\u001b[37m━\u001b[0m \u001b[1m0s\u001b[0m 1ms/step - accuracy: 0.9269 - loss: 0.2028\n",
      "Epoch 21: val_loss did not improve from 0.35048\n",
      "\u001b[1m300/300\u001b[0m \u001b[32m━━━━━━━━━━━━━━━━━━━━\u001b[0m\u001b[37m\u001b[0m \u001b[1m0s\u001b[0m 1ms/step - accuracy: 0.9269 - loss: 0.2029 - val_accuracy: 0.8783 - val_loss: 0.3583\n",
      "Epoch 22/30\n",
      "\u001b[1m279/300\u001b[0m \u001b[32m━━━━━━━━━━━━━━━━━━\u001b[0m\u001b[37m━━\u001b[0m \u001b[1m0s\u001b[0m 908us/step - accuracy: 0.9281 - loss: 0.1990\n",
      "Epoch 22: val_loss did not improve from 0.35048\n",
      "\u001b[1m300/300\u001b[0m \u001b[32m━━━━━━━━━━━━━━━━━━━━\u001b[0m\u001b[37m\u001b[0m \u001b[1m0s\u001b[0m 1ms/step - accuracy: 0.9280 - loss: 0.1991 - val_accuracy: 0.8789 - val_loss: 0.3587\n",
      "Epoch 23/30\n",
      "\u001b[1m298/300\u001b[0m \u001b[32m━━━━━━━━━━━━━━━━━━━\u001b[0m\u001b[37m━\u001b[0m \u001b[1m0s\u001b[0m 1ms/step - accuracy: 0.9299 - loss: 0.1948\n",
      "Epoch 23: val_loss did not improve from 0.35048\n",
      "\u001b[1m300/300\u001b[0m \u001b[32m━━━━━━━━━━━━━━━━━━━━\u001b[0m\u001b[37m\u001b[0m \u001b[1m0s\u001b[0m 1ms/step - accuracy: 0.9299 - loss: 0.1948 - val_accuracy: 0.8799 - val_loss: 0.3606\n",
      "Epoch 24/30\n",
      "\u001b[1m294/300\u001b[0m \u001b[32m━━━━━━━━━━━━━━━━━━━\u001b[0m\u001b[37m━\u001b[0m \u001b[1m0s\u001b[0m 1ms/step - accuracy: 0.9312 - loss: 0.1914\n",
      "Epoch 24: val_loss did not improve from 0.35048\n",
      "\u001b[1m300/300\u001b[0m \u001b[32m━━━━━━━━━━━━━━━━━━━━\u001b[0m\u001b[37m\u001b[0m \u001b[1m0s\u001b[0m 1ms/step - accuracy: 0.9312 - loss: 0.1914 - val_accuracy: 0.8802 - val_loss: 0.3601\n",
      "Epoch 24: early stopping\n"
     ]
    }
   ],
   "source": [
    "from tensorflow.keras.callbacks import ModelCheckpoint, EarlyStopping\n",
    "# 자동 중단 설정\n",
    "early_stopping_callback = EarlyStopping(monitor='val_loss', patience=10, verbose=1)\n",
    "modelpath = \"model/{epoch:02d}-{val_loss:.4f}.keras\"\n",
    "checkpointer = ModelCheckpoint(filepath=modelpath, monitor='val_loss', verbose=1, save_best_only=True)\n",
    "\n",
    "# Fit the model\n",
    "history = model.fit(X_train, Y_train, validation_data=(X_test, Y_test), epochs=30, batch_size=200,\n",
    "                    callbacks=[early_stopping_callback, checkpointer])\n",
    "\n",
    "# Convert history to DataFrame\n",
    "hist = pd.DataFrame(history.history)"
   ]
  },
  {
   "cell_type": "code",
   "execution_count": 18,
   "metadata": {},
   "outputs": [
    {
     "name": "stdout",
     "output_type": "stream",
     "text": [
      "    accuracy      loss  val_accuracy  val_loss\n",
      "19  0.925017  0.209748        0.8765  0.355149\n",
      "20  0.926517  0.205657        0.8783  0.358312\n",
      "21  0.927883  0.201784        0.8789  0.358704\n",
      "22  0.929750  0.197674        0.8799  0.360625\n",
      "23  0.930633  0.194075        0.8802  0.360055\n"
     ]
    },
    {
     "data": {
      "image/png": "[encoded data removed]",
      "text/plain": [
       "<Figure size 1000x500 with 1 Axes>"
      ]
     },
     "metadata": {},
     "output_type": "display_data"
    }
   ],
   "source": [
    "print(hist.tail())\n",
    "y_vloss=history.history['val_loss']\n",
    "# y_acc에 학습셋으로 측정한 정확도의 값을 저장\n",
    "y_loss=history.history['loss']\n",
    "import matplotlib.pyplot as plt\n",
    "# x 값을 지정하고 정확도를 파란색으로, 오차를 빨간색으로 표시\n",
    "x_len = np.arange(len(y_loss))\n",
    "plt. figure(figsize=(10, 5))\n",
    "plt.xlabel('epoch')\n",
    "plt.ylabel('loss')\n",
    "plt.plot(x_len, y_vloss, \"-\", c=\"violet\", markersize=3, label='val_loss')\n",
    "plt.plot(x_len, y_loss, \"-\", c=\"springgreen\", markersize=3, label='loss')\n",
    "plt.legend()\n",
    "plt.show()"
   ]
  },
  {
   "cell_type": "code",
   "execution_count": 19,
   "metadata": {},
   "outputs": [
    {
     "name": "stdout",
     "output_type": "stream",
     "text": [
      "\u001b[1m313/313\u001b[0m \u001b[32m━━━━━━━━━━━━━━━━━━━━\u001b[0m\u001b[37m\u001b[0m \u001b[1m0s\u001b[0m 281us/step - accuracy: 0.8805 - loss: 0.3583\n",
      "\n",
      " Test Accuracy: 0.8802\n"
     ]
    }
   ],
   "source": [
    "print(\"\\n Test Accuracy: %.4f\" % (model.evaluate(X_test, Y_test)[1]))"
   ]
  },
  {
   "cell_type": "code",
   "execution_count": null,
   "metadata": {},
   "outputs": [],
   "source": []
  }
 ],
 "metadata": {
  "kernelspec": {
   "display_name": "base",
   "language": "python",
   "name": "python3"
  },
  "language_info": {
   "codemirror_mode": {
    "name": "ipython",
    "version": 3
   },
   "file_extension": ".py",
   "mimetype": "text/x-python",
   "name": "python",
   "nbconvert_exporter": "python",
   "pygments_lexer": "ipython3",
   "version": "3.11.7"
  }
 },
 "nbformat": 4,
 "nbformat_minor": 2
}
