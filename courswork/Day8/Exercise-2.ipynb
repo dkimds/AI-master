{
 "cells": [
  {
   "cell_type": "code",
   "execution_count": 1,
   "metadata": {},
   "outputs": [],
   "source": [
    "import tensorflow as tf \n",
    "from tensorflow.keras.models import load_model\n",
    "from sklearn.preprocessing import LabelEncoder, StandardScaler\n",
    "\n",
    "import pandas as pd \n",
    "import numpy as np\n",
    "from pickle import dump , load\n"
   ]
  },
  {
   "cell_type": "code",
   "execution_count": 2,
   "metadata": {},
   "outputs": [],
   "source": [
    "new_data = np.array([\n",
    "    [559.622532,565.372554,552.952506,3330800,564.142557],\n",
    "    [542.602466,555.0025,541.612446,3151200,554.902495],\n",
    "    [540.742445,548.482483,527.152379,4401600,538.152456],\n",
    "    [574.652582,577.772589,543.002488,6369300,543.14246],\n",
    "    [569.852553,587.282679,564.132581,5099100,569.742571],\n",
    "    [599.992707,604.832763,562.192568,147100,567.002574],\n",
    "    [558.712504,568.452595,558.712504,7900,567.162558],\n",
    "    [566.892592,567.002574,556.932537,10800,556.972503],\n",
    "    [561.202549,566.43259,558.672539,41200,559.992565],\n",
    "    [568.00257,568.00257,552.922516,13100,558.462551],\n",
    "])"
   ]
  },
  {
   "cell_type": "code",
   "execution_count": 3,
   "metadata": {},
   "outputs": [
    {
     "name": "stdout",
     "output_type": "stream",
     "text": [
      "\u001b[1m1/1\u001b[0m \u001b[32m━━━━━━━━━━━━━━━━━━━━\u001b[0m\u001b[37m\u001b[0m \u001b[1m0s\u001b[0m 51ms/step\n"
     ]
    }
   ],
   "source": [
    "# load model\n",
    "sc = load(open('scaler.pkl', 'rb'))\n",
    "model = load_model('model/432-14.5147.keras')\n",
    "X_test= sc.transform(new_data[:,:4])\n",
    "new_y= model.predict(X_test).flatten()"
   ]
  },
  {
   "cell_type": "code",
   "execution_count": 4,
   "metadata": {},
   "outputs": [
    {
     "name": "stdout",
     "output_type": "stream",
     "text": [
      "실제가격: 564.143, 예상가격: 559.178\n",
      "실제가격: 554.902, 예상가격: 550.748\n",
      "실제가격: 538.152, 예상가격: 536.474\n",
      "실제가격: 543.142, 예상가격: 554.045\n",
      "실제가격: 569.743, 예상가격: 578.089\n",
      "실제가격: 567.003, 예상가격: 574.705\n",
      "실제가격: 567.163, 예상가격: 565.328\n",
      "실제가격: 556.973, 예상가격: 559.661\n",
      "실제가격: 559.993, 예상가격: 562.964\n",
      "실제가격: 558.463, 예상가격: 556.797\n"
     ]
    }
   ],
   "source": [
    "Y_test= new_data[:,4]\n",
    "for i in range(10):\n",
    "    label = Y_test[i]\n",
    "    prediction = new_y[i]\n",
    "    print(\"실제가격: {:.3f}, 예상가격: {:.3f}\".format(label, prediction))"
   ]
  },
  {
   "cell_type": "code",
   "execution_count": null,
   "metadata": {},
   "outputs": [],
   "source": []
  }
 ],
 "metadata": {
  "kernelspec": {
   "display_name": "base",
   "language": "python",
   "name": "python3"
  },
  "language_info": {
   "codemirror_mode": {
    "name": "ipython",
    "version": 3
   },
   "file_extension": ".py",
   "mimetype": "text/x-python",
   "name": "python",
   "nbconvert_exporter": "python",
   "pygments_lexer": "ipython3",
   "version": "3.11.7"
  }
 },
 "nbformat": 4,
 "nbformat_minor": 2
}
