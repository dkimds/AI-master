{
 "cells": [
  {
   "cell_type": "code",
   "execution_count": 20,
   "metadata": {},
   "outputs": [],
   "source": [
    "import tensorflow as tf\n",
    "import numpy as np\n",
    "\n",
    "from datetime import datetime"
   ]
  },
  {
   "cell_type": "code",
   "execution_count": 21,
   "metadata": {},
   "outputs": [],
   "source": [
    "learning_rate = 0.1\n",
    "tf.random.set_seed(0)\n",
    "np.random.seed(0)"
   ]
  },
  {
   "cell_type": "code",
   "execution_count": 22,
   "metadata": {},
   "outputs": [],
   "source": [
    "x_data = np.array([[0, 0], [0, 1], [1, 0], [1, 1]], dtype=np.float32)\n",
    "y_data = np.array([[0], [1], [1], [0]], dtype=np.float32)"
   ]
  },
  {
   "cell_type": "code",
   "execution_count": 29,
   "metadata": {},
   "outputs": [],
   "source": [
    "W1 = tf.Variable(tf.random.normal([2, 5]), name='weight1')\n",
    "b1 = tf.Variable(tf.random.normal([5]), name='bias1')\n",
    "W2 = tf.Variable(tf.random.normal([5, 5]), name='weight2')\n",
    "b2 = tf.Variable(tf.random.normal([5]), name='bias2')\n",
    "W3 = tf.Variable(tf.random.normal([5, 5]), name='weight3')\n",
    "b3 = tf.Variable(tf.random.normal([5]), name='bias3')\n",
    "W4 = tf.Variable(tf.random.normal([5, 5]), name='weight4')\n",
    "b4 = tf.Variable(tf.random.normal([5]), name='bias4')\n",
    "W5 = tf.Variable(tf.random.normal([5, 5]), name='weight5')\n",
    "b5 = tf.Variable(tf.random.normal([5]), name='bias5')\n",
    "W6 = tf.Variable(tf.random.normal([5, 1]), name='weight6')\n",
    "b6 = tf.Variable(tf.random.normal([1]), name='bias6')"
   ]
  },
  {
   "cell_type": "code",
   "execution_count": 30,
   "metadata": {},
   "outputs": [],
   "source": [
    "def hypothesis():\n",
    "    layer1 = tf.sigmoid(tf.matmul(x_data, W1) + b1)\n",
    "    layer2 = tf.sigmoid(tf.matmul(layer1, W2) + b2)\n",
    "    layer3 = tf.sigmoid(tf.matmul(layer2, W3) + b3)\n",
    "    layer4 = tf.sigmoid(tf.matmul(layer3, W4) + b4)\n",
    "    layer5 = tf.sigmoid(tf.matmul(layer4, W5) + b5)\n",
    "\n",
    "    cost = tf.sigmoid(tf.matmul(layer5, W6) + b6)\n",
    "    return cost"
   ]
  },
  {
   "cell_type": "code",
   "execution_count": 31,
   "metadata": {},
   "outputs": [],
   "source": [
    "def costFunc():\n",
    "    return -tf.reduce_mean(y_data * tf.math.log(hypothesis()) +\n",
    "                           (1 - y_data) * tf.math.log(1 - hypothesis()))"
   ]
  },
  {
   "cell_type": "code",
   "execution_count": 32,
   "metadata": {},
   "outputs": [
    {
     "name": "stderr",
     "output_type": "stream",
     "text": [
      "WARNING:absl:At this time, the v2.11+ optimizer `tf.keras.optimizers.SGD` runs slowly on M1/M2 Macs, please use the legacy TF-Keras optimizer instead, located at `tf.keras.optimizers.legacy.SGD`.\n"
     ]
    }
   ],
   "source": [
    "optimizer = tf.keras.optimizers.SGD(learning_rate)"
   ]
  },
  {
   "cell_type": "code",
   "execution_count": 33,
   "metadata": {},
   "outputs": [
    {
     "name": "stdout",
     "output_type": "stream",
     "text": [
      " epochs=0, cost=0.8650976419448853, accuracy=0.5\n",
      " epochs=500, cost=0.6930423378944397, accuracy=0.5\n",
      " epochs=1000, cost=0.6930109858512878, accuracy=0.5\n",
      " epochs=1500, cost=0.6929771900177002, accuracy=0.5\n",
      " epochs=2000, cost=0.6929398775100708, accuracy=0.5\n",
      " epochs=2500, cost=0.6928980946540833, accuracy=0.5\n",
      " epochs=3000, cost=0.6928503513336182, accuracy=0.5\n",
      " epochs=3500, cost=0.6927951574325562, accuracy=0.5\n",
      " epochs=4000, cost=0.6927300691604614, accuracy=0.5\n",
      " epochs=4500, cost=0.6926519274711609, accuracy=0.5\n",
      " epochs=5000, cost=0.6925563216209412, accuracy=0.5\n",
      " epochs=5500, cost=0.6924366354942322, accuracy=0.5\n",
      " epochs=6000, cost=0.6922831535339355, accuracy=0.5\n",
      " epochs=6500, cost=0.6920806765556335, accuracy=0.5\n",
      " epochs=7000, cost=0.6918038129806519, accuracy=0.75\n",
      " epochs=7500, cost=0.6914089322090149, accuracy=0.75\n",
      " epochs=8000, cost=0.6908130645751953, accuracy=0.75\n",
      " epochs=8500, cost=0.689844012260437, accuracy=0.75\n",
      " epochs=9000, cost=0.6880874037742615, accuracy=0.75\n",
      " epochs=9500, cost=0.6843265891075134, accuracy=0.75\n",
      " epochs=10000, cost=0.6737837791442871, accuracy=0.75\n"
     ]
    }
   ],
   "source": [
    "for step in range(10001) :\n",
    "    with tf.GradientTape() as tape:\n",
    "        cost_value = costFunc()\n",
    "    gradients = tape.gradient(cost_value, [W1, b1, W2, b2, W3, b3, W4, b4, W5, b5, W6, b6])\n",
    "    optimizer.apply_gradients(zip(gradients, [W1, b1, W2, b2, W3, b3, W4, b4, W5, b5, W6, b6]))\n",
    "    \n",
    "    if step % 500 == 0:\n",
    "        predicted = tf.cast(hypothesis() > 0.5, dtype=tf.float32)\n",
    "        accuracy = tf.reduce_mean(tf.cast(tf.equal(predicted, y_data), dtype=tf.float32))\n",
    "        print(f' epochs={step}, cost={cost_value.numpy()}, accuracy={accuracy. numpy()}')"
   ]
  },
  {
   "cell_type": "code",
   "execution_count": 9,
   "metadata": {},
   "outputs": [
    {
     "name": "stdout",
     "output_type": "stream",
     "text": [
      "Collecting tf_keras\n",
      "  Downloading tf_keras-2.17.0-py3-none-any.whl.metadata (1.6 kB)\n",
      "Requirement already satisfied: tensorflow<2.18,>=2.17 in /opt/anaconda3/lib/python3.11/site-packages (from tf_keras) (2.17.0)\n",
      "Requirement already satisfied: absl-py>=1.0.0 in /opt/anaconda3/lib/python3.11/site-packages (from tensorflow<2.18,>=2.17->tf_keras) (2.1.0)\n",
      "Requirement already satisfied: astunparse>=1.6.0 in /opt/anaconda3/lib/python3.11/site-packages (from tensorflow<2.18,>=2.17->tf_keras) (1.6.3)\n",
      "Requirement already satisfied: flatbuffers>=24.3.25 in /opt/anaconda3/lib/python3.11/site-packages (from tensorflow<2.18,>=2.17->tf_keras) (24.3.25)\n",
      "Requirement already satisfied: gast!=0.5.0,!=0.5.1,!=0.5.2,>=0.2.1 in /opt/anaconda3/lib/python3.11/site-packages (from tensorflow<2.18,>=2.17->tf_keras) (0.6.0)\n",
      "Requirement already satisfied: google-pasta>=0.1.1 in /opt/anaconda3/lib/python3.11/site-packages (from tensorflow<2.18,>=2.17->tf_keras) (0.2.0)\n",
      "Requirement already satisfied: h5py>=3.10.0 in /opt/anaconda3/lib/python3.11/site-packages (from tensorflow<2.18,>=2.17->tf_keras) (3.11.0)\n",
      "Requirement already satisfied: libclang>=13.0.0 in /opt/anaconda3/lib/python3.11/site-packages (from tensorflow<2.18,>=2.17->tf_keras) (18.1.1)\n",
      "Requirement already satisfied: ml-dtypes<0.5.0,>=0.3.1 in /opt/anaconda3/lib/python3.11/site-packages (from tensorflow<2.18,>=2.17->tf_keras) (0.4.0)\n",
      "Requirement already satisfied: opt-einsum>=2.3.2 in /opt/anaconda3/lib/python3.11/site-packages (from tensorflow<2.18,>=2.17->tf_keras) (3.3.0)\n",
      "Requirement already satisfied: packaging in /opt/anaconda3/lib/python3.11/site-packages (from tensorflow<2.18,>=2.17->tf_keras) (23.2)\n",
      "Requirement already satisfied: protobuf!=4.21.0,!=4.21.1,!=4.21.2,!=4.21.3,!=4.21.4,!=4.21.5,<5.0.0dev,>=3.20.3 in /opt/anaconda3/lib/python3.11/site-packages (from tensorflow<2.18,>=2.17->tf_keras) (4.25.3)\n",
      "Requirement already satisfied: requests<3,>=2.21.0 in /opt/anaconda3/lib/python3.11/site-packages (from tensorflow<2.18,>=2.17->tf_keras) (2.31.0)\n",
      "Requirement already satisfied: setuptools in /opt/anaconda3/lib/python3.11/site-packages (from tensorflow<2.18,>=2.17->tf_keras) (68.2.2)\n",
      "Requirement already satisfied: six>=1.12.0 in /opt/anaconda3/lib/python3.11/site-packages (from tensorflow<2.18,>=2.17->tf_keras) (1.16.0)\n",
      "Requirement already satisfied: termcolor>=1.1.0 in /opt/anaconda3/lib/python3.11/site-packages (from tensorflow<2.18,>=2.17->tf_keras) (2.4.0)\n",
      "Requirement already satisfied: typing-extensions>=3.6.6 in /opt/anaconda3/lib/python3.11/site-packages (from tensorflow<2.18,>=2.17->tf_keras) (4.9.0)\n",
      "Requirement already satisfied: wrapt>=1.11.0 in /opt/anaconda3/lib/python3.11/site-packages (from tensorflow<2.18,>=2.17->tf_keras) (1.14.1)\n",
      "Requirement already satisfied: grpcio<2.0,>=1.24.3 in /opt/anaconda3/lib/python3.11/site-packages (from tensorflow<2.18,>=2.17->tf_keras) (1.64.0)\n",
      "Requirement already satisfied: tensorboard<2.18,>=2.17 in /opt/anaconda3/lib/python3.11/site-packages (from tensorflow<2.18,>=2.17->tf_keras) (2.17.0)\n",
      "Requirement already satisfied: keras>=3.2.0 in /opt/anaconda3/lib/python3.11/site-packages (from tensorflow<2.18,>=2.17->tf_keras) (3.4.1)\n",
      "Requirement already satisfied: tensorflow-io-gcs-filesystem>=0.23.1 in /opt/anaconda3/lib/python3.11/site-packages (from tensorflow<2.18,>=2.17->tf_keras) (0.37.1)\n",
      "Requirement already satisfied: numpy<2.0.0,>=1.23.5 in /opt/anaconda3/lib/python3.11/site-packages (from tensorflow<2.18,>=2.17->tf_keras) (1.25.0)\n",
      "Requirement already satisfied: wheel<1.0,>=0.23.0 in /opt/anaconda3/lib/python3.11/site-packages (from astunparse>=1.6.0->tensorflow<2.18,>=2.17->tf_keras) (0.41.2)\n",
      "Requirement already satisfied: rich in /opt/anaconda3/lib/python3.11/site-packages (from keras>=3.2.0->tensorflow<2.18,>=2.17->tf_keras) (13.7.1)\n",
      "Requirement already satisfied: namex in /opt/anaconda3/lib/python3.11/site-packages (from keras>=3.2.0->tensorflow<2.18,>=2.17->tf_keras) (0.0.8)\n",
      "Requirement already satisfied: optree in /opt/anaconda3/lib/python3.11/site-packages (from keras>=3.2.0->tensorflow<2.18,>=2.17->tf_keras) (0.12.1)\n",
      "Requirement already satisfied: charset-normalizer<4,>=2 in /opt/anaconda3/lib/python3.11/site-packages (from requests<3,>=2.21.0->tensorflow<2.18,>=2.17->tf_keras) (2.0.4)\n",
      "Requirement already satisfied: idna<4,>=2.5 in /opt/anaconda3/lib/python3.11/site-packages (from requests<3,>=2.21.0->tensorflow<2.18,>=2.17->tf_keras) (3.4)\n",
      "Requirement already satisfied: urllib3<3,>=1.21.1 in /opt/anaconda3/lib/python3.11/site-packages (from requests<3,>=2.21.0->tensorflow<2.18,>=2.17->tf_keras) (2.0.7)\n",
      "Requirement already satisfied: certifi>=2017.4.17 in /opt/anaconda3/lib/python3.11/site-packages (from requests<3,>=2.21.0->tensorflow<2.18,>=2.17->tf_keras) (2024.6.2)\n",
      "Requirement already satisfied: markdown>=2.6.8 in /opt/anaconda3/lib/python3.11/site-packages (from tensorboard<2.18,>=2.17->tensorflow<2.18,>=2.17->tf_keras) (3.4.1)\n",
      "Requirement already satisfied: tensorboard-data-server<0.8.0,>=0.7.0 in /opt/anaconda3/lib/python3.11/site-packages (from tensorboard<2.18,>=2.17->tensorflow<2.18,>=2.17->tf_keras) (0.7.2)\n",
      "Requirement already satisfied: werkzeug>=1.0.1 in /opt/anaconda3/lib/python3.11/site-packages (from tensorboard<2.18,>=2.17->tensorflow<2.18,>=2.17->tf_keras) (2.2.3)\n",
      "Requirement already satisfied: MarkupSafe>=2.1.1 in /opt/anaconda3/lib/python3.11/site-packages (from werkzeug>=1.0.1->tensorboard<2.18,>=2.17->tensorflow<2.18,>=2.17->tf_keras) (2.1.3)\n",
      "Requirement already satisfied: markdown-it-py>=2.2.0 in /opt/anaconda3/lib/python3.11/site-packages (from rich->keras>=3.2.0->tensorflow<2.18,>=2.17->tf_keras) (2.2.0)\n",
      "Requirement already satisfied: pygments<3.0.0,>=2.13.0 in /opt/anaconda3/lib/python3.11/site-packages (from rich->keras>=3.2.0->tensorflow<2.18,>=2.17->tf_keras) (2.15.1)\n",
      "Requirement already satisfied: mdurl~=0.1 in /opt/anaconda3/lib/python3.11/site-packages (from markdown-it-py>=2.2.0->rich->keras>=3.2.0->tensorflow<2.18,>=2.17->tf_keras) (0.1.0)\n",
      "Downloading tf_keras-2.17.0-py3-none-any.whl (1.7 MB)\n",
      "\u001b[2K   \u001b[90m━━━━━━━━━━━━━━━━━━━━━━━━━━━━━━━━━━━━━━━━\u001b[0m \u001b[32m1.7/1.7 MB\u001b[0m \u001b[31m11.1 MB/s\u001b[0m eta \u001b[36m0:00:00\u001b[0m00:01\u001b[0m00:01\u001b[0m\n",
      "\u001b[?25hInstalling collected packages: tf_keras\n",
      "Successfully installed tf_keras-2.17.0\n"
     ]
    }
   ],
   "source": [
    "!pip install tf_keras"
   ]
  },
  {
   "cell_type": "code",
   "execution_count": 16,
   "metadata": {},
   "outputs": [],
   "source": [
    "import os\n",
    "os.environ['TF_USE_LEGACY_KERAS'] = 'True'\n",
    "import tensorflow as tf \n",
    "import numpy as np \n",
    "from datetime import datetime"
   ]
  },
  {
   "cell_type": "code",
   "execution_count": 8,
   "metadata": {},
   "outputs": [],
   "source": [
    "learning_rate = 0.1\n",
    "tf. random.set_seed (0)\n",
    "np. random.seed (0)\n",
    "x_data = np.array([[0, 0], [0, 1], [1, 0], [1, 1]], dtype=np.float32)\n",
    "y_data = np.array([[0], [1], [1], [0]], dtype=np.float32)\n",
    "W1 = tf. Variable(tf.random.normal([2, 2]), name= 'weight1')\n",
    "b1 = tf. Variable(tf.random.normal([2]), name='bias1')\n",
    "W2 = tf. Variable(tf.random.normal([2, 1]), name='weight2')\n",
    "b2 = tf. Variable(tf.random.normal([1]), name='bias2')"
   ]
  },
  {
   "cell_type": "code",
   "execution_count": 9,
   "metadata": {},
   "outputs": [],
   "source": [
    "def hypothesis():\n",
    "    layer1 = tf.sigmoid(tf.matmul(x_data, W1) + b1)\n",
    "    cost = tf.sigmoid(tf.matmul(layer1, W2) + b2)\n",
    "    return cost"
   ]
  },
  {
   "cell_type": "code",
   "execution_count": 10,
   "metadata": {},
   "outputs": [],
   "source": [
    "@tf.function \n",
    "def costFunc():\n",
    "    return -tf. reduce_mean(y_data * tf.math. log(hypothesis()) +\n",
    "                            (1 - y_data) * tf.math.log(1 - hypothesis()))"
   ]
  },
  {
   "cell_type": "code",
   "execution_count": 11,
   "metadata": {},
   "outputs": [],
   "source": [
    "stamp = datetime.now().strftime(\"%Y%m%d-%H%M%S\")\n",
    "logdir = f'logs/mylogs/{stamp}'\n",
    "writer = tf.summary.create_file_writer(logdir)"
   ]
  },
  {
   "cell_type": "code",
   "execution_count": 12,
   "metadata": {},
   "outputs": [
    {
     "name": "stderr",
     "output_type": "stream",
     "text": [
      "2024-07-18 15:04:44.114398: I external/local_tsl/tsl/profiler/lib/profiler_session.cc:103] Profiler session initializing.\n",
      "2024-07-18 15:04:44.114412: I external/local_tsl/tsl/profiler/lib/profiler_session.cc:118] Profiler session started.\n"
     ]
    },
    {
     "data": {
      "text/plain": [
       "<tf.Tensor: shape=(), dtype=float32, numpy=0.6909121>"
      ]
     },
     "execution_count": 12,
     "metadata": {},
     "output_type": "execute_result"
    }
   ],
   "source": [
    "tf.summary.trace_on(graph=True, profiler=True, profiler_outdir=logdir)\n",
    "costFunc()"
   ]
  },
  {
   "cell_type": "code",
   "execution_count": 18,
   "metadata": {},
   "outputs": [
    {
     "name": "stderr",
     "output_type": "stream",
     "text": [
      "WARNING:absl:At this time, the v2.11+ optimizer `tf.keras.optimizers.SGD` runs slowly on M1/M2 Macs, please use the legacy TF-Keras optimizer instead, located at `tf.keras.optimizers.legacy.SGD`.\n"
     ]
    },
    {
     "name": "stdout",
     "output_type": "stream",
     "text": [
      " epochs=0, cost=0.6904563903808594, accuracy=0.25\n",
      " epochs=500, cost=0.6447045803070068, accuracy=0.75\n",
      " epochs=1000, cost=0.5667228698730469, accuracy=0.75\n",
      " epochs=1500, cost=0.3992375433444977, accuracy=1.0\n",
      " epochs=2000, cost=0.20098578929901123, accuracy=1.0\n",
      " epochs=2500, cost=0.11425451934337616, accuracy=1.0\n",
      " epochs=3000, cost=0.07665112614631653, accuracy=1.0\n"
     ]
    }
   ],
   "source": [
    "train = tf.keras.optimizers.SGD(learning_rate)\n",
    "for step in range(3001):\n",
    "    with tf.GradientTape() as tape:\n",
    "        cost_value = costFunc()\n",
    "    gradients = tape.gradient(cost_value, [W1, b1, W2, b2])\n",
    "    train.apply_gradients(zip(gradients, [W1, b1, W2, b2]))\n",
    "    predicted = tf. cast(hypothesis() > 0.5, dtype=tf.float32)\n",
    "    accuracy = tf.reduce_mean(tf.cast(tf.equal(predicted, y_data), dtype=tf.float32))\n",
    "    \n",
    "    if step % 500 == 0:\n",
    "        print(f' epochs={step}, cost={costFunc() .numpy()}, accuracy={accuracy.numpy()}')"
   ]
  },
  {
   "cell_type": "code",
   "execution_count": 19,
   "metadata": {},
   "outputs": [
    {
     "name": "stdout",
     "output_type": "stream",
     "text": [
      "WARNING:tensorflow:Ignoring `profiler_outdir` passed to trace_export(). Please pass it to trace_on() instead.\n"
     ]
    },
    {
     "name": "stderr",
     "output_type": "stream",
     "text": [
      "WARNING:tensorflow:Ignoring `profiler_outdir` passed to trace_export(). Please pass it to trace_on() instead.\n",
      "2024-07-18 15:13:03.544056: I external/local_tsl/tsl/profiler/lib/profiler_session.cc:68] Profiler session collecting data.\n",
      "2024-07-18 15:13:04.850154: I external/local_tsl/tsl/profiler/lib/profiler_session.cc:130] Profiler session tear down.\n",
      "2024-07-18 15:13:04.859310: I external/local_tsl/tsl/profiler/rpc/client/save_profile.cc:147] Collecting XSpace to repository: logs/mylogs/20240718-150434/plugins/profile/2024_07_18_15_13_04/dsMac.local.xplane.pb\n"
     ]
    },
    {
     "name": "stdout",
     "output_type": "stream",
     "text": [
      "WARNING:tensorflow:Error while stopping profiler: Cannot export profiling results. No profiler is running.\n"
     ]
    },
    {
     "name": "stderr",
     "output_type": "stream",
     "text": [
      "WARNING:tensorflow:Error while stopping profiler: Cannot export profiling results. No profiler is running.\n"
     ]
    }
   ],
   "source": [
    "with writer.as_default():\n",
    "    tf. summary. trace_export(name='graph_t1', step=0, profiler_outdir=logdir) \n",
    "    tf.summary.trace_off()"
   ]
  },
  {
   "cell_type": "code",
   "execution_count": null,
   "metadata": {},
   "outputs": [],
   "source": [
    "print(\" \\nHypothesis:\", hypothesis ().numpy(), \"InCorrect:\", predicted. numpy(),\n",
    "        \"\\nAccuracy: \", accuracy.numpy())"
   ]
  }
 ],
 "metadata": {
  "kernelspec": {
   "display_name": "base",
   "language": "python",
   "name": "python3"
  },
  "language_info": {
   "codemirror_mode": {
    "name": "ipython",
    "version": 3
   },
   "file_extension": ".py",
   "mimetype": "text/x-python",
   "name": "python",
   "nbconvert_exporter": "python",
   "pygments_lexer": "ipython3",
   "version": "3.11.7"
  }
 },
 "nbformat": 4,
 "nbformat_minor": 2
}
