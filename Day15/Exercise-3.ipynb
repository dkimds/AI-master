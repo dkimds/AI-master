{
 "cells": [
  {
   "cell_type": "markdown",
   "metadata": {},
   "source": [
    "# 오픈AI 퀵스타트"
   ]
  },
  {
   "cell_type": "markdown",
   "metadata": {},
   "source": [
    "!pip install openai==0.28.1"
   ]
  },
  {
   "cell_type": "code",
   "execution_count": 1,
   "metadata": {},
   "outputs": [
    {
     "name": "stdout",
     "output_type": "stream",
     "text": [
      "0.28.1\n"
     ]
    }
   ],
   "source": [
    "import openai\n",
    "import json\n",
    "import os\n",
    "print(openai.__version__)"
   ]
  },
  {
   "cell_type": "code",
   "execution_count": 2,
   "metadata": {},
   "outputs": [],
   "source": [
    "# OPENAI_API_KEY=\"<your_key>\"\n",
    "# openai.api_key= OPENAI_API_KEY\n",
    "import getpass\n",
    "\n",
    "openai.api_key=getpass.getpass(\"OPENAI_API_KEY:\")"
   ]
  },
  {
   "cell_type": "code",
   "execution_count": 3,
   "metadata": {},
   "outputs": [
    {
     "name": "stdout",
     "output_type": "stream",
     "text": [
      "자연어를 더 잘 이해하기 위해서는 여러 가지 방법이 있습니다. 다음은 그 중 몇 가지입니다:\n",
      "\n",
      "1. **독서와 청취**: 다양한 장르의 책, 기사, 팟캐스트, 강연 등을 통해 다양한 언어 표현과 문맥을 접하는 것이 중요합니다. 이를 통해 어휘력과 문장 구조에 대한 이해도가 높아집니다.\n",
      "\n",
      "2. **일기 쓰기**: 매일 자신이 생각하는 바를 일기로 써보세요. 이는 언어 표현 능력을 키우고 자신의 감정을 정리하는 데 도움이 됩니다.\n",
      "\n",
      "3. **어휘 확장**: 새로운 단어와 표현을 배우고 이를 일상 대화나 글에 적용해 보세요. 어휘가 넓어질수록 자연어 이해도가 높아집니다.\n",
      "\n",
      "4. **대화 연습**: 다양한 사람들과 대화하며 의견을 교환해 보세요. 실생활에서의 언어 사용은 이해도를 높이고 언어 능력을 개선하는 데 큰 도움이 됩니다.\n",
      "\n",
      "5. **논리적 사고 훈련**: 논리적으로 사고하고 argumentation(주장 전개) 방법을 익히면 복잡한 문장을 이해하는 데 도움이 됩니다. \n",
      "\n",
      "6. **문법 공부**: 문법의 기초를 이해하면 문장의 구조와 의미를 파악하는 데 도움이 됩니다. 간단한 문법 규칙부터 시작해 보세요.\n",
      "\n",
      "7. **같은 언어로 다른 표현 방법 찾기**: 같은 의미를 가진 여러 표현을 찾아보면 언어의 깊이를 더 이해할 수 있습니다.\n",
      "\n",
      "8. **기술 활용**: 자연어 처리(NLP) 관련 도구나 애플리케이션을 활용해 보세요. 예를 들어, 텍스트 분석이나 언어 번역 소프트웨어를 통해 다양한 언어 현상을 관찰할 수 있습니다.\n",
      "\n",
      "이 방법들을 지속적으로 실천하면 자연어 이해도가 더욱 향상될 것입니다.\n"
     ]
    }
   ],
   "source": [
    "response = openai.ChatCompletion.create(\n",
    "    # model='gpt-4',\n",
    "    # model=\"gpt-3.5-turbo-0125\",\n",
    "    model = 'gpt-4o-mini-2024-07-18',\n",
    "    messages=[\n",
    "        {\"role\": \"system\", \"content\": \"당신은 도움을 주는 훌륭한 조수입니다.\"},\n",
    "        {\"role\": \"user\", \"content\": \"어떻게 하면 자연어를 더 잘 이해할 수 있나요?\"}\n",
    "    ]\n",
    ")\n",
    "\n",
    "print(response['choices'][0]['message']['content'])"
   ]
  },
  {
   "cell_type": "code",
   "execution_count": 12,
   "metadata": {},
   "outputs": [
    {
     "name": "stdout",
     "output_type": "stream",
     "text": [
      "딥러닝을 이용해 논문의 초록을 분석하고 점수를 매기기 위해서는 여러 단계를 거쳐야 합니다. 다음은 그 과정에 대한 일반적인 절차입니다:\n",
      "\n",
      "1. **데이터 수집**: \n",
      "   - 과거의 연구 논문 초록과 그에 대한 평가 점수를 수집합니다. 이 데이터는 모델 훈련에 필요합니다.\n",
      "\n",
      "2. **데이터 전처리**:\n",
      "   - 초록의 텍스트를 정제하여 불필요한 문자를 제거하고, 소문자로 변환하는 등의 작업을 수행합니다.\n",
      "   - 일반적으로 자연어 처리(NLP)에서 사용되는 텍스트 전처리 기술을 적용합니다. 예를 들어 토큰화(tokenization), 불용어 제거(stop-word removal), 어간 추출(stemming) 또는 표제어 추출(lemmatization) 등이 있습니다.\n",
      "\n",
      "3. **특징 추출**:\n",
      "   - 초록을 입력으로 사용하기 위해 벡터 형식으로 변환해야 합니다. 이를 위해 TF-IDF, 워드 임베딩(Word Embedding) 또는 BERT와 같은 사전 훈련된 모델을 사용할 수 있습니다.\n",
      "\n",
      "4. **모델 선택**:\n",
      "   - 모든 데이터를 사용해 점수를 예측할 모델을 선택합니다. 기계 학습 알고리즘(예: 회귀 모델, SVM 등) 또는 딥러닝 모델(예: LSTM, Transformer 기반 모델) 중에서 선택할 수 있습니다. 더 복잡한 구조일수록 일반적으로 더 나은 성능을 보입니다.\n",
      "\n",
      "5. **모델 훈련**:\n",
      "   - 수집한 데이터를 이용하여 선택한 모델을 훈련시킵니다. 이 과정에서 검증 데이터를 사용해 모델의 성능을 평가하고 하이퍼파라미터 조정 등을 통해 모델을 개선합니다.\n",
      "\n",
      "6. **모델 평가**:\n",
      "   - 훈련된 모델의 성능을 테스트 데이터로 평가합니다. 일반적으로 RMSE(루트 평균 제곱 오차), MAE(평균 절대 오차) 등의 지표를 사용하여 점수 예측의 정확성을 확인합니다.\n",
      "\n",
      "7. **예측**:\n",
      "   - 모델이 훈련되고 평가가 완료되면, 새로운 논문 초록을 입력으로 사용해 점수를 예측합니다.\n",
      "\n",
      "8. **결과 해석**:\n",
      "   - 예측된 점수를 기반으로 논문의 질을 평가하며, 필요한 경우 후속 조치를 취하거나 모델을 개선할 수 있습니다.\n",
      "\n",
      "이런 방법을 통해 딥러닝 기반의 논문 초록 점수 매기기 시스템을 구축할 수 있습니다. 또한, 모델의 성능을 높이기 위해 더 많은 데이터를 수집하고, 최신 기술을 적용하는 것이 중요합니다.\n"
     ]
    }
   ],
   "source": [
    "response = openai.ChatCompletion.create(\n",
    "    # model='gpt-4',\n",
    "    # model=\"gpt-3.5-turbo-0125\",\n",
    "    model = 'gpt-4o-mini-2024-07-18',\n",
    "    messages=[\n",
    "        {\"role\": \"system\", \"content\": \"당신은 세계적으로 훌륭한 인공지능 엔지니어입니다.\"},\n",
    "        {\"role\": \"user\", \"content\": \"어떻게 하면 딥러닝으로 논문에서 초록을 보고 점수를 줄 수 있나요?\"}\n",
    "    ]\n",
    ")\n",
    "\n",
    "print(response['choices'][0]['message']['content'])"
   ]
  },
  {
   "cell_type": "code",
   "execution_count": null,
   "metadata": {},
   "outputs": [],
   "source": [
    "messages = [\n",
    "    {\"role\": \"system\", \"content\": \"당신은 도움을 주는 훌륭한 조수입니다.\"}\n",
    "]\n",
    "\n",
    "messages.append(\n",
    "    {\"role\": \"user\", \"content\": \"어떻게 하면 자연어를 더 잘 이해할 수 있나요?\"}\n",
    ")\n",
    "\n",
    "response = openai.ChatCompletion.create(\n",
    "    model = 'gpt-4o-mini-2024-07-18',\n",
    "    messages=messages\n",
    ")\n",
    "\n",
    "print(response['choices'][0]['message']['content'])"
   ]
  },
  {
   "cell_type": "markdown",
   "metadata": {},
   "source": [
    "# 실습: 간단한 챗봇 만들기\n",
    "1. 대화를 입력하면 응답하는 기능\n",
    "2. 반복 중에 \"종료\"를 입력하면, 끝"
   ]
  },
  {
   "cell_type": "code",
   "execution_count": 19,
   "metadata": {},
   "outputs": [
    {
     "name": "stdout",
     "output_type": "stream",
     "text": [
      "Assistant: 안녕하세요, 박정우님! 만나서 반갑습니다. 어떻게 도와드릴까요?\n",
      "Assistant: 안녕하세요, 박정우님! 만나서 반갑습니다. 어떻게 도와드릴까요?\n",
      "Assistant: 당신의 이름은 박정우입니다! 어떻게 도와드릴까요?\n",
      "대화 종료\n"
     ]
    }
   ],
   "source": [
    "messages = [\n",
    "    {\"role\": \"system\", \"content\": \"당신은 도움을 주는 훌륭한 조수입니다.\"}\n",
    "]\n",
    "\n",
    "while True:\n",
    "    user_input = input (\"입력 (질문하세요.):\")\n",
    "\n",
    "    if user_input.lower () ==\"종료\":\n",
    "        print(\"대화 종료\")\n",
    "        break   \n",
    "    \n",
    "    messages.append(\n",
    "        {\"role\": \"user\", \"content\": user_input}\n",
    "    )\n",
    "\n",
    "    response = openai.ChatCompletion.create(\n",
    "        model = 'gpt-4o-mini-2024-07-18',\n",
    "        messages=messages\n",
    "    )\n",
    "    assist_response = response['choices'][0]['message']['content']\n",
    "    print(f\"Assistant: {assist_response}\")\n",
    "    \n",
    "    # 모델 응답을 메시지 목록에 추가\n",
    "    messages.append(\n",
    "        {\"role\": \"assistant\", \"content\": assist_response}\n",
    "    )\n",
    "\n"
   ]
  },
  {
   "cell_type": "markdown",
   "metadata": {},
   "source": [
    "# 실습 2"
   ]
  },
  {
   "cell_type": "code",
   "execution_count": 31,
   "metadata": {},
   "outputs": [],
   "source": [
    "\n",
    "# 자동차 회사의 정보를 담은 데이터베이스\n",
    "car_company_info = {\n",
    "    \"회사\": \"구름자동차\",\n",
    "    \"모델\": [\"아반떼\", \"소나타\", \"그랜저\", \"펠리세이드\"],\n",
    "    \"서비스\": {\n",
    "        \"정기점검\": \"6개월마다 무료 정기점검을 제공합니다.\",\n",
    "        \"긴급출동\": \"24시간 긴급출동 서비스를 제공합니다.\",\n",
    "        \"보증기간\": \"모든 차량에 대해 5년 또는 10만 km 보증을 제공합니다.\"\n",
    "    },\n",
    "    \"연락처\": {\n",
    "        \"고객센터\": \"1588-1234\",\n",
    "        \"서비스센터\": \"02-123-4567\"\n",
    "    },\n",
    "    \"위치\": \"서울특별시 강남구 테헤란로 123\"\n",
    "}\n"
   ]
  },
  {
   "cell_type": "code",
   "execution_count": 32,
   "metadata": {},
   "outputs": [],
   "source": [
    "\n",
    "def get_car_chatbot_response(user_input):\n",
    "    try:\n",
    "        # 입력과 회사 정보로 프롬프트 생성\n",
    "        car_info_json = json.dumps(car_company_info, ensure_ascii=False, indent=4)\n",
    "        prompt = [\n",
    "            {\"role\": \"system\", \"content\": f\"당신은 자동차 회사의 전문 상담사입니다. 고객의 질문에 성실하고, 친절하게 답변해주세요.\\n 다음은 자동차 회사의 정보입니다.\\n{car_info_json}\"},\n",
    "            {\"role\": \"user\", \"content\": user_input}\n",
    "        ]\n",
    "\n",
    "        # 챗봇 응답 생성\n",
    "        response = openai.ChatCompletion.create(\n",
    "            # model=\"gpt-3.5-turbo-0125\",\n",
    "            model='gpt-4o-mini-2024-07-18',\n",
    "            messages=prompt,\n",
    "            max_tokens=150,\n",
    "            temperature=0.9,\n",
    "            frequency_penalty=0.1,\n",
    "            presence_penalty=0.1\n",
    "        )\n",
    "        assist_response = response['choices'][0]['message']['content']\n",
    "        # 모델 응답을 메시지 목록에 추가\n",
    "        \n",
    "        messages.append(\n",
    "            {\"role\": \"assistant\", \"content\": assist_response}\n",
    "        )\n",
    "\n",
    "        return assist_response\n",
    "    except openai.error.OpenAIError as e:\n",
    "        print(f\"An error occurred: {e}\")\n",
    "    except Exception as e:\n",
    "            print(f\"Unexpeted error occurred: {e}\")\n",
    "\n",
    "        "
   ]
  },
  {
   "cell_type": "code",
   "execution_count": 33,
   "metadata": {},
   "outputs": [
    {
     "name": "stdout",
     "output_type": "stream",
     "text": [
      "구름 자동차 상담 챗봇에 오신 것을 환영합니다. 종료하시려면 '종료'를 입력하세요.\n",
      "Assitant: 구름자동차에서 취급하는 차종은 다음과 같습니다:\n",
      "\n",
      "1. 아반떼\n",
      "2. 소나타\n",
      "3. 그랜저\n",
      "4. 펠리세이드\n",
      "\n",
      "각 모델에 대한 자세한 정보가 필요하시면 언제든지 말씀해 주세요!\n",
      "Assitant: 구름자동차는 서울특별시 강남구 테헤란로 123에 위치해 있습니다. 추가로 궁금한 점이 있으시면 언제든지 질문해 주세요!\n",
      "Assitant: 구름자동차의 위치는 서울특별시 강남구 테헤란로 123입니다. 추가로 궁금한 점이 있으시면 언제든지 말씀해 주세요!\n",
      "Assitant: 저희 회사명은 \"구름자동차\"입니다. 궁금한 점이 있으면 언제든지 말씀해 주세요!\n",
      "대화를 종료합니다. 감사합니다.\n"
     ]
    }
   ],
   "source": [
    "print(\"구름 자동차 상담 챗봇에 오신 것을 환영합니다. 종료하시려면 '종료'를 입력하세요.\")\n",
    "while True:\n",
    "    # Input\n",
    "    user_input = input(\"User: \")\n",
    "\n",
    "    # 종료 입력하면 대화 종료\n",
    "    if user_input.lower() == \"종료\":\n",
    "        print(\"대화를 종료합니다. 감사합니다.\")\n",
    "        break\n",
    "\n",
    "    # 응답 생성 및 출력\n",
    "    response = get_car_chatbot_response(user_input)\n",
    "    print(f\"Assitant: {response}\")"
   ]
  },
  {
   "cell_type": "code",
   "execution_count": null,
   "metadata": {},
   "outputs": [],
   "source": []
  }
 ],
 "metadata": {
  "kernelspec": {
   "display_name": "base",
   "language": "python",
   "name": "python3"
  },
  "language_info": {
   "codemirror_mode": {
    "name": "ipython",
    "version": 3
   },
   "file_extension": ".py",
   "mimetype": "text/x-python",
   "name": "python",
   "nbconvert_exporter": "python",
   "pygments_lexer": "ipython3",
   "version": "3.11.7"
  }
 },
 "nbformat": 4,
 "nbformat_minor": 2
}
