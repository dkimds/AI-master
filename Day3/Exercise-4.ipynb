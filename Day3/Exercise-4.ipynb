{
 "cells": [
  {
   "cell_type": "code",
   "execution_count": 1,
   "metadata": {},
   "outputs": [],
   "source": [
    "import tensorflow as tf\n",
    "import numpy as np\n"
   ]
  },
  {
   "cell_type": "code",
   "execution_count": 3,
   "metadata": {},
   "outputs": [],
   "source": [
    "data = [[2,0], [4, 0], [6, 0], [8, 1], [10, 1], [12, 1], [14, 1]]\n",
    "x_data = np.array([x_row[0] for x_row in data], dtype=np.float64)\n",
    "y_data = np.array([y_row[1] for y_row in data], dtype=np.float64)\n"
   ]
  },
  {
   "cell_type": "code",
   "execution_count": 4,
   "metadata": {},
   "outputs": [],
   "source": [
    "a = tf.Variable(tf.random.normal([1], dtype=tf.float64, seed=0))\n",
    "b = tf.Variable(tf.random.normal([1], dtype=tf.float64, seed=0))"
   ]
  },
  {
   "cell_type": "code",
   "execution_count": 5,
   "metadata": {},
   "outputs": [],
   "source": [
    "def hypotheis(a, b):\n",
    "    return 1/(1 + tf.math.exp(-(a * x_data + b)))\n",
    "\n",
    "def cost(a, b):\n",
    "    return -tf.reduce_mean(y_data * tf.math.log(hypotheis(a, b)) + (1 - y_data) * tf.math.log(1 - hypotheis(a, b)))\n",
    "\n",
    "opt = tf.keras.optimizers.SGD(learning_rate=0.5)"
   ]
  },
  {
   "cell_type": "code",
   "execution_count": 6,
   "metadata": {},
   "outputs": [
    {
     "name": "stdout",
     "output_type": "stream",
     "text": [
      "Step: 0, Cost: 4.198056559821054, a: [2.45719506], b: [-0.03358081]\n",
      "Step: 6000, Cost: 0.015171303248840742, a: [2.92268135], b: [-20.30933691]\n",
      "Step: 12000, Cost: 0.008063672446373316, a: [3.56459439], b: [-24.8069916]\n",
      "Step: 18000, Cost: 0.005471899247428007, a: [3.95630493], b: [-27.55039466]\n",
      "Step: 24000, Cost: 0.00413539917793495, a: [4.23846392], b: [-29.52621989]\n",
      "Step: 30000, Cost: 0.0033214864805959426, a: [4.45894767], b: [-31.07003192]\n",
      "Step: 36000, Cost: 0.0027742884792447487, a: [4.63985768], b: [-32.33668483]\n",
      "Step: 42000, Cost: 0.0023813726364597157, a: [4.79322008], b: [-33.41042306]\n",
      "Step: 48000, Cost: 0.002085652147195493, a: [4.92630368], b: [-34.34215902]\n",
      "Step: 54000, Cost: 0.0018550847118111514, a: [5.04383702], b: [-35.16500936]\n",
      "Step: 60000, Cost: 0.001670304896706984, a: [5.14906839], b: [-35.90172237]\n",
      "final result - a: [5.14906839], b: [-35.90172237]\n"
     ]
    }
   ],
   "source": [
    "for i in range(60001):\n",
    "    with tf.GradientTape() as tape:\n",
    "        current_cost = cost(a, b)\n",
    "\n",
    "    grads = tape.gradient(current_cost, [a, b])\n",
    "    opt.apply_gradients(zip(grads, [a, b]))\n",
    "    if i%6000 == 0:\n",
    "            print(f\"Step: {i}, Cost: {current_cost.numpy()}, a: {a.numpy()}, b: {b.numpy()}\")\n",
    "\n",
    "print(f\"final result - a: {a.numpy()}, b: {b.numpy()}\")"
   ]
  },
  {
   "cell_type": "code",
   "execution_count": 7,
   "metadata": {},
   "outputs": [
    {
     "name": "stdout",
     "output_type": "stream",
     "text": [
      "[3.88260468e-05]\n",
      "0.0000388260468465287150903464397089237536\n",
      "[0.53537987]\n",
      "0.5353798705783079370235100213903933763504\n",
      "[1.]\n",
      "0.9999999999999666933092612453037872910500\n"
     ]
    },
    {
     "name": "stderr",
     "output_type": "stream",
     "text": [
      "/var/folders/wm/j89vyk052m5bvrvn1dhfyflr0000gn/T/ipykernel_37693/3344062709.py:4: DeprecationWarning: Conversion of an array with ndim > 0 to a scalar is deprecated, and will error in future. Ensure you extract a single element from your array before performing this operation. (Deprecated NumPy 1.25.)\n",
      "  print(\"%.40f\" % float(y_test.numpy()))\n",
      "/var/folders/wm/j89vyk052m5bvrvn1dhfyflr0000gn/T/ipykernel_37693/3344062709.py:9: DeprecationWarning: Conversion of an array with ndim > 0 to a scalar is deprecated, and will error in future. Ensure you extract a single element from your array before performing this operation. (Deprecated NumPy 1.25.)\n",
      "  print(\"%.40f\" % float(y_test.numpy()))\n",
      "/var/folders/wm/j89vyk052m5bvrvn1dhfyflr0000gn/T/ipykernel_37693/3344062709.py:14: DeprecationWarning: Conversion of an array with ndim > 0 to a scalar is deprecated, and will error in future. Ensure you extract a single element from your array before performing this operation. (Deprecated NumPy 1.25.)\n",
      "  print(\"%.40f\" % float(y_test.numpy()))\n"
     ]
    }
   ],
   "source": [
    "new_x_data = 5\n",
    "y_test = 1/(1 + np.e**-(a * new_x_data + b))\n",
    "print(y_test.numpy())\n",
    "print(\"%.40f\" % float(y_test.numpy()))\n",
    "\n",
    "new_x_data = 7\n",
    "y_test = 1/(1 + np.e**-(a * new_x_data + b))\n",
    "print(y_test.numpy())\n",
    "print(\"%.40f\" % float(y_test.numpy()))\n",
    "\n",
    "new_x_data = 13\n",
    "y_test = 1/(1 + np.e**-(a * new_x_data + b))\n",
    "print(y_test.numpy())\n",
    "print(\"%.40f\" % float(y_test.numpy()))\n"
   ]
  },
  {
   "cell_type": "code",
   "execution_count": 8,
   "metadata": {},
   "outputs": [
    {
     "name": "stdout",
     "output_type": "stream",
     "text": [
      "epochs=0, cost=1.07955002784729, W1=0.13703562319278717, W2=0.07879506051540375, b=[0.5169016]\n",
      "epochs=200, cost=0.31833285093307495, W1=0.7767334580421448, W2=-0.6357903480529785, b=[-1.671697]\n",
      "epochs=400, cost=0.2398236244916916, W1=0.8634781837463379, W2=-0.5346623063087463, b=[-2.9066737]\n",
      "epochs=600, cost=0.19474676251411438, W1=0.839161217212677, W2=-0.3288424611091614, b=[-3.8300543]\n",
      "epochs=800, cost=0.16400793194770813, W1=0.7806609869003296, W2=-0.1056576669216156, b=[-4.5777955]\n",
      "epochs=1000, cost=0.14144381880760193, W1=0.7115950584411621, W2=0.1113760843873024, b=[-5.2087655]\n",
      "epochs=1200, cost=0.12414483726024628, W1=0.6411639451980591, W2=0.314895361661911, b=[-5.755409]\n",
      "epochs=1400, cost=0.11047600209712982, W1=0.5732271671295166, W2=0.5030401349067688, b=[-6.2379513]\n",
      "epochs=1600, cost=0.09942363202571869, W1=0.5093492865562439, W2=0.6760544180870056, b=[-6.6700096]\n",
      "epochs=1800, cost=0.09031904488801956, W1=0.45003408193588257, W2=0.8349848389625549, b=[-7.0612345]\n"
     ]
    },
    {
     "name": "stderr",
     "output_type": "stream",
     "text": [
      "findfont: Font family 'NanumGothic' not found.\n",
      "findfont: Font family 'NanumGothic' not found.\n",
      "findfont: Font family 'NanumGothic' not found.\n",
      "findfont: Font family 'NanumGothic' not found.\n",
      "findfont: Font family 'NanumGothic' not found.\n",
      "findfont: Font family 'NanumGothic' not found.\n",
      "findfont: Font family 'NanumGothic' not found.\n",
      "findfont: Font family 'NanumGothic' not found.\n",
      "findfont: Font family 'NanumGothic' not found.\n",
      "findfont: Font family 'NanumGothic' not found.\n",
      "findfont: Font family 'NanumGothic' not found.\n",
      "findfont: Font family 'NanumGothic' not found.\n",
      "/opt/anaconda3/lib/python3.11/site-packages/IPython/core/pylabtools.py:152: UserWarning: Glyph 54617 (\\N{HANGUL SYLLABLE HAG}) missing from font(s) DejaVu Sans.\n",
      "  fig.canvas.print_figure(bytes_io, **kw)\n",
      "/opt/anaconda3/lib/python3.11/site-packages/IPython/core/pylabtools.py:152: UserWarning: Glyph 49845 (\\N{HANGUL SYLLABLE SEUB}) missing from font(s) DejaVu Sans.\n",
      "  fig.canvas.print_figure(bytes_io, **kw)\n",
      "/opt/anaconda3/lib/python3.11/site-packages/IPython/core/pylabtools.py:152: UserWarning: Glyph 54924 (\\N{HANGUL SYLLABLE HOE}) missing from font(s) DejaVu Sans.\n",
      "  fig.canvas.print_figure(bytes_io, **kw)\n",
      "/opt/anaconda3/lib/python3.11/site-packages/IPython/core/pylabtools.py:152: UserWarning: Glyph 49688 (\\N{HANGUL SYLLABLE SU}) missing from font(s) DejaVu Sans.\n",
      "  fig.canvas.print_figure(bytes_io, **kw)\n",
      "/opt/anaconda3/lib/python3.11/site-packages/IPython/core/pylabtools.py:152: UserWarning: Glyph 50640 (\\N{HANGUL SYLLABLE E}) missing from font(s) DejaVu Sans.\n",
      "  fig.canvas.print_figure(bytes_io, **kw)\n",
      "/opt/anaconda3/lib/python3.11/site-packages/IPython/core/pylabtools.py:152: UserWarning: Glyph 46384 (\\N{HANGUL SYLLABLE DDA}) missing from font(s) DejaVu Sans.\n",
      "  fig.canvas.print_figure(bytes_io, **kw)\n",
      "/opt/anaconda3/lib/python3.11/site-packages/IPython/core/pylabtools.py:152: UserWarning: Glyph 47480 (\\N{HANGUL SYLLABLE REUN}) missing from font(s) DejaVu Sans.\n",
      "  fig.canvas.print_figure(bytes_io, **kw)\n",
      "/opt/anaconda3/lib/python3.11/site-packages/IPython/core/pylabtools.py:152: UserWarning: Glyph 50724 (\\N{HANGUL SYLLABLE O}) missing from font(s) DejaVu Sans.\n",
      "  fig.canvas.print_figure(bytes_io, **kw)\n",
      "/opt/anaconda3/lib/python3.11/site-packages/IPython/core/pylabtools.py:152: UserWarning: Glyph 52264 (\\N{HANGUL SYLLABLE CA}) missing from font(s) DejaVu Sans.\n",
      "  fig.canvas.print_figure(bytes_io, **kw)\n",
      "/opt/anaconda3/lib/python3.11/site-packages/IPython/core/pylabtools.py:152: UserWarning: Glyph 50752 (\\N{HANGUL SYLLABLE WA}) missing from font(s) DejaVu Sans.\n",
      "  fig.canvas.print_figure(bytes_io, **kw)\n",
      "/opt/anaconda3/lib/python3.11/site-packages/IPython/core/pylabtools.py:152: UserWarning: Glyph 48320 (\\N{HANGUL SYLLABLE BYEON}) missing from font(s) DejaVu Sans.\n",
      "  fig.canvas.print_figure(bytes_io, **kw)\n",
      "/opt/anaconda3/lib/python3.11/site-packages/IPython/core/pylabtools.py:152: UserWarning: Glyph 54868 (\\N{HANGUL SYLLABLE HWA}) missing from font(s) DejaVu Sans.\n",
      "  fig.canvas.print_figure(bytes_io, **kw)\n",
      "findfont: Font family 'NanumGothic' not found.\n",
      "findfont: Font family 'NanumGothic' not found.\n",
      "findfont: Font family 'NanumGothic' not found.\n",
      "findfont: Font family 'NanumGothic' not found.\n",
      "findfont: Font family 'NanumGothic' not found.\n",
      "findfont: Font family 'NanumGothic' not found.\n",
      "findfont: Font family 'NanumGothic' not found.\n",
      "findfont: Font family 'NanumGothic' not found.\n",
      "findfont: Font family 'NanumGothic' not found.\n",
      "findfont: Font family 'NanumGothic' not found.\n",
      "findfont: Font family 'NanumGothic' not found.\n",
      "findfont: Font family 'NanumGothic' not found.\n",
      "findfont: Font family 'NanumGothic' not found.\n",
      "findfont: Font family 'NanumGothic' not found.\n",
      "findfont: Font family 'NanumGothic' not found.\n",
      "findfont: Font family 'NanumGothic' not found.\n",
      "findfont: Font family 'NanumGothic' not found.\n",
      "findfont: Font family 'NanumGothic' not found.\n",
      "findfont: Font family 'NanumGothic' not found.\n",
      "findfont: Font family 'NanumGothic' not found.\n",
      "findfont: Font family 'NanumGothic' not found.\n",
      "findfont: Font family 'NanumGothic' not found.\n",
      "findfont: Font family 'NanumGothic' not found.\n",
      "findfont: Font family 'NanumGothic' not found.\n",
      "findfont: Font family 'NanumGothic' not found.\n",
      "findfont: Font family 'NanumGothic' not found.\n",
      "findfont: Font family 'NanumGothic' not found.\n",
      "findfont: Font family 'NanumGothic' not found.\n",
      "findfont: Font family 'NanumGothic' not found.\n",
      "findfont: Font family 'NanumGothic' not found.\n",
      "findfont: Font family 'NanumGothic' not found.\n",
      "findfont: Font family 'NanumGothic' not found.\n",
      "findfont: Font family 'NanumGothic' not found.\n",
      "findfont: Font family 'NanumGothic' not found.\n",
      "findfont: Font family 'NanumGothic' not found.\n",
      "findfont: Font family 'NanumGothic' not found.\n",
      "findfont: Font family 'NanumGothic' not found.\n",
      "findfont: Font family 'NanumGothic' not found.\n",
      "findfont: Font family 'NanumGothic' not found.\n",
      "findfont: Font family 'NanumGothic' not found.\n",
      "findfont: Font family 'NanumGothic' not found.\n",
      "findfont: Font family 'NanumGothic' not found.\n",
      "findfont: Font family 'NanumGothic' not found.\n",
      "findfont: Font family 'NanumGothic' not found.\n",
      "findfont: Font family 'NanumGothic' not found.\n",
      "findfont: Font family 'NanumGothic' not found.\n",
      "findfont: Font family 'NanumGothic' not found.\n",
      "findfont: Font family 'NanumGothic' not found.\n",
      "findfont: Font family 'NanumGothic' not found.\n",
      "findfont: Font family 'NanumGothic' not found.\n",
      "findfont: Font family 'NanumGothic' not found.\n",
      "findfont: Font family 'NanumGothic' not found.\n",
      "findfont: Font family 'NanumGothic' not found.\n",
      "findfont: Font family 'NanumGothic' not found.\n",
      "findfont: Font family 'NanumGothic' not found.\n"
     ]
    },
    {
     "name": "stdout",
     "output_type": "stream",
     "text": [
      "epochs=2000, cost=0.08270131796598434, W1=0.3952818512916565, W2=0.9811356067657471, b=[-7.418734]\n"
     ]
    },
    {
     "data": {
      "image/png": "[encoded data removed]",
      "text/plain": [
       "<Figure size 640x480 with 2 Axes>"
      ]
     },
     "metadata": {},
     "output_type": "display_data"
    },
    {
     "name": "stdout",
     "output_type": "stream",
     "text": [
      "========================================================\n",
      "W = [[0.39528185]\n",
      " [0.9811356 ]]\n",
      "b = -7.418734\n",
      "y_data = [[0.]\n",
      " [0.]\n",
      " [0.]\n",
      " [1.]\n",
      " [1.]\n",
      " [1.]\n",
      " [1.]]\n",
      "sigmoid = [[0.02448838]\n",
      " [0.05244103]\n",
      " [0.24554777]\n",
      " [0.83621544]\n",
      " [0.9677681 ]\n",
      " [0.9943685 ]\n",
      " [0.9990379 ]]\n",
      "predicted = [[0.]\n",
      " [0.]\n",
      " [0.]\n",
      " [1.]\n",
      " [1.]\n",
      " [1.]\n",
      " [1.]]\n",
      "Accuracy = 1.0\n"
     ]
    }
   ],
   "source": [
    "import tensorflow as tf\n",
    "import numpy as np\n",
    "import matplotlib.pyplot as plt\n",
    "\n",
    "# 시드 설정\n",
    "seed = 0\n",
    "np.random.seed(seed)\n",
    "tf.random.set_seed(seed)\n",
    "\n",
    "# 데이터 값 (※주의: 반드시 float로 정의해 주어야 함)\n",
    "x_data = np.array([[2, 3],[4, 3],[6, 4],[8, 6],[10, 7],[12, 8],[14, 9]], dtype=np.float32)  # shape=(7, 2)\n",
    "y_data = np.array([0, 0, 0, 1, 1, 1, 1], dtype=np.float32).reshape(7, 1)   # shape=(7,1)\n",
    "\n",
    "# 기울기, 절편 정의\n",
    "W = tf.Variable(tf.random.uniform([2, 1], dtype=tf.float32))  # Shape=(2, 1)\n",
    "b = tf.Variable(tf.random.uniform([1], dtype=tf.float32))     # Shape=(1,)\n",
    "\n",
    "# 가설 함수 (시그모이드 함수)\n",
    "def hypothesis(W, b):\n",
    "    return tf.sigmoid(tf.matmul(x_data, W) + b)\n",
    "\n",
    "# 손실 함수\n",
    "def costFunc():\n",
    "    return - tf.reduce_mean(y_data * tf.math.log(hypothesis(W, b)) \n",
    "                            + (1 - y_data) * tf.math.log(1 - hypothesis(W, b)))\n",
    "\n",
    "# 그래프 함수\n",
    "def graph():\n",
    "    import matplotlib as mpl\n",
    "    mpl.rc('font', family='NanumGothic') # 한글 설정\n",
    "    mpl.rc('axes', unicode_minus=False)  # 음수부호 설정\n",
    "\n",
    "    fig, ax0 = plt.subplots()\n",
    "    ax1 = ax0.twinx()   # x축을 공유하는 두개의 y축\n",
    "    ax0.set_title(\"학습 회수에 따른 오차(cost)와 accuracy변화\")\n",
    "    ax0.plot(cost_arr, 'r-', label=\"cost\")\n",
    "    ax0.set_ylabel(\"Cost\")\n",
    "    ax0.grid(True)\n",
    "    ax1.plot(accuracy_arr, 'b', label=\"accuracy\")\n",
    "    ax1.set_ylabel(\"Accuracy\")\n",
    "    ax1.grid(False)\n",
    "    ax0.set_xlabel(\"epochs\")\n",
    "    plt.show()\n",
    "\n",
    "# 옵티마이저 정의\n",
    "opt = tf.keras.optimizers.SGD(learning_rate=0.1)\n",
    "\n",
    "epoch_arr = []\n",
    "cost_arr = []\n",
    "accuracy_arr = []\n",
    "\n",
    "# 학습 수행\n",
    "for i in range(2001):  # epochs를 바꿔가며 accuracy 변화 체크\n",
    "    with tf.GradientTape() as tape:\n",
    "        current_cost = costFunc()\n",
    "    grads = tape.gradient(current_cost, [W, b])\n",
    "    opt.apply_gradients(zip(grads, [W, b]))\n",
    "    \n",
    "    if i % 200 == 0:\n",
    "        print(f'epochs={i}, cost={current_cost.numpy()}, W1={W.numpy()[0,0]}, W2={W.numpy()[1,0]}, b={b.numpy()}')\n",
    "    \n",
    "    predicted = tf.cast(hypothesis(W, b) > 0.5, dtype=tf.float32)\n",
    "    epoch_arr.append(i)\n",
    "    cost_arr.append(current_cost.numpy())\n",
    "    accuracy = np.mean(y_data == predicted)\n",
    "    accuracy_arr.append(accuracy)\n",
    "\n",
    "# 오차와 정확도 그래프 그리기 (x축 공유)\n",
    "graph()\n",
    "\n",
    "# 학습결과 인쇄\n",
    "print(\"========================================================\")\n",
    "print(\"W =\", W.numpy())\n",
    "print(\"b =\", b.numpy()[0])\n",
    "print(\"y_data =\", y_data)\n",
    "print(\"sigmoid =\", hypothesis(W, b).numpy())\n",
    "\n",
    "print(\"predicted =\", predicted.numpy())\n",
    "print(\"Accuracy =\", accuracy)\n"
   ]
  },
  {
   "cell_type": "code",
   "execution_count": null,
   "metadata": {},
   "outputs": [],
   "source": []
  }
 ],
 "metadata": {
  "kernelspec": {
   "display_name": "base",
   "language": "python",
   "name": "python3"
  },
  "language_info": {
   "codemirror_mode": {
    "name": "ipython",
    "version": 3
   },
   "file_extension": ".py",
   "mimetype": "text/x-python",
   "name": "python",
   "nbconvert_exporter": "python",
   "pygments_lexer": "ipython3",
   "version": "3.11.7"
  }
 },
 "nbformat": 4,
 "nbformat_minor": 2
}
