{
 "cells": [
  {
   "cell_type": "code",
   "execution_count": 12,
   "metadata": {},
   "outputs": [],
   "source": [
    "import tensorflow.compat.v1 as tf\n",
    "tf.disable_v2_behavior()\n",
    "import numpy as np"
   ]
  },
  {
   "cell_type": "code",
   "execution_count": 2,
   "metadata": {},
   "outputs": [],
   "source": [
    "data = [[2,0], [4, 0], [6, 0], [8, 1], [10, 1], [12, 1], [14, 1]]\n",
    "x_data = [x_row[0] for x_row in data]\n",
    "y_data = [y_row[1] for y_row in data]"
   ]
  },
  {
   "cell_type": "code",
   "execution_count": 3,
   "metadata": {},
   "outputs": [],
   "source": [
    "a = tf.Variable(tf.random_normal([1], dtype=tf.float64, seed=0))\n",
    "b = tf.Variable(tf.random_normal([1], dtype=tf.float64, seed=0))"
   ]
  },
  {
   "cell_type": "code",
   "execution_count": 4,
   "metadata": {},
   "outputs": [],
   "source": [
    "y = 1/(1 + np.e**-(a * x_data + b))"
   ]
  },
  {
   "cell_type": "code",
   "execution_count": 5,
   "metadata": {},
   "outputs": [],
   "source": [
    "loss = -tf.reduce_mean(np.array(y_data) * tf.log(y) + (1 - np.array(y_data)) * tf.log(1 - y))"
   ]
  },
  {
   "cell_type": "code",
   "execution_count": 6,
   "metadata": {},
   "outputs": [],
   "source": [
    "learning_rate = 0.5"
   ]
  },
  {
   "cell_type": "code",
   "execution_count": 7,
   "metadata": {},
   "outputs": [],
   "source": [
    "gradient_decent = tf.train.GradientDescentOptimizer(learning_rate).minimize(loss)"
   ]
  },
  {
   "cell_type": "code",
   "execution_count": 10,
   "metadata": {},
   "outputs": [
    {
     "name": "stderr",
     "output_type": "stream",
     "text": [
      "/var/folders/wm/j89vyk052m5bvrvn1dhfyflr0000gn/T/ipykernel_37294/3549077283.py:6: DeprecationWarning: Conversion of an array with ndim > 0 to a scalar is deprecated, and will error in future. Ensure you extract a single element from your array before performing this operation. (Deprecated NumPy 1.25.)\n",
      "  print(\"Epochs: %.f, loss: %.04f, slope a: %.4f, intercept b: %.4f\"\n"
     ]
    },
    {
     "name": "stdout",
     "output_type": "stream",
     "text": [
      "Epochs: 0, loss: 4.0817, slope a: 2.4706, intercept b: -0.3620\n",
      "Epochs: 6000, loss: 0.0152, slope a: 2.9230, intercept b: -20.3114\n",
      "Epochs: 12000, loss: 0.0081, slope a: 3.5648, intercept b: -24.8081\n",
      "Epochs: 18000, loss: 0.0055, slope a: 3.9564, intercept b: -27.5511\n",
      "Epochs: 24000, loss: 0.0041, slope a: 4.2385, intercept b: -29.5268\n",
      "Epochs: 30000, loss: 0.0033, slope a: 4.4590, intercept b: -31.0705\n",
      "Epochs: 36000, loss: 0.0028, slope a: 4.6399, intercept b: -32.3371\n",
      "Epochs: 42000, loss: 0.0024, slope a: 4.7933, intercept b: -33.4107\n",
      "Epochs: 48000, loss: 0.0021, slope a: 4.9263, intercept b: -34.3424\n",
      "Epochs: 54000, loss: 0.0019, slope a: 5.0439, intercept b: -35.1653\n",
      "Epochs: 60000, loss: 0.0017, slope a: 5.1491, intercept b: -35.9020\n",
      "[3.88235157e-05]\n",
      "3.8823515662074094e-05\n",
      "[0.53537986]\n",
      "0.5353798637647957\n",
      "[1.]\n",
      "0.9999999999999669\n",
      "Tensor(\"truediv_6:0\", shape=(1,), dtype=float64)\n"
     ]
    }
   ],
   "source": [
    "with tf.Session() as sess:\n",
    "    sess.run(tf.global_variables_initializer())\n",
    "    for i in range(60001):\n",
    "        sess.run(gradient_decent)\n",
    "        if i%6000 == 0:\n",
    "            print(\"Epochs: %.f, loss: %.04f, slope a: %.4f, intercept b: %.4f\"\n",
    "                  % (i, sess.run(loss), sess.run(a), sess.run(b)))\n",
    "            \n",
    "    new_x_data = 5\n",
    "    y_test = 1/(1 + np.e**-(a * new_x_data + b))\n",
    "    print(sess.run(y_test))\n",
    "    print(sess.run(y_test[0]))\n",
    "\n",
    "    new_x_data = 7\n",
    "    y_test = 1/(1 + np.e**-(a * new_x_data + b))\n",
    "    print(sess.run(y_test))\n",
    "    print(sess.run(y_test[0]))\n",
    "\n",
    "    new_x_data = 13\n",
    "    y_test = 1/(1 + np.e**-(a * new_x_data + b))\n",
    "    print(sess.run(y_test))\n",
    "    print(sess.run(y_test[0]))\n",
    "    print(y_test)"
   ]
  },
  {
   "cell_type": "markdown",
   "metadata": {},
   "source": [
    "다중 회귀 분석"
   ]
  },
  {
   "cell_type": "code",
   "execution_count": 49,
   "metadata": {},
   "outputs": [],
   "source": [
    "seed = 0\n",
    "np.random.seed(seed)\n",
    "tf.set_random_seed(seed)"
   ]
  },
  {
   "cell_type": "code",
   "execution_count": 50,
   "metadata": {},
   "outputs": [],
   "source": [
    "x_data = np.array([[2,3], [4, 3], [6, 4], [8, 6], [10, 7], [12, 8], [14, 9]])\n",
    "y_data = np.array([0, 0, 0, 1, 1, 1, 1]).reshape(7, 1)"
   ]
  },
  {
   "cell_type": "code",
   "execution_count": 51,
   "metadata": {},
   "outputs": [],
   "source": [
    "X = tf.placeholder(tf.float64, shape=[None, 2])\n",
    "Y = tf.placeholder(tf.float64, shape=[None, 1])"
   ]
  },
  {
   "cell_type": "code",
   "execution_count": 52,
   "metadata": {},
   "outputs": [],
   "source": [
    "a = tf.Variable(tf.random_uniform([2, 1], dtype=tf.float64))\n",
    "b = tf.Variable(tf.random_uniform([1], dtype=tf.float64))"
   ]
  },
  {
   "cell_type": "code",
   "execution_count": 53,
   "metadata": {},
   "outputs": [],
   "source": [
    "y = tf.sigmoid(tf.matmul(X, a) + b)"
   ]
  },
  {
   "cell_type": "code",
   "execution_count": 54,
   "metadata": {},
   "outputs": [],
   "source": [
    "loss = -tf.reduce_mean(Y * tf.log(y) + (1 - y) * tf.log(1 - y))"
   ]
  },
  {
   "cell_type": "code",
   "execution_count": 55,
   "metadata": {},
   "outputs": [],
   "source": [
    "learning_rate=0.1"
   ]
  },
  {
   "cell_type": "code",
   "execution_count": 56,
   "metadata": {},
   "outputs": [],
   "source": [
    "gradient_decent = tf.train.GradientDescentOptimizer(learning_rate).minimize(loss)"
   ]
  },
  {
   "cell_type": "code",
   "execution_count": 57,
   "metadata": {},
   "outputs": [],
   "source": [
    "predicted = tf.cast(y > 0.5, dtype=tf.float64)\n",
    "accuracy = tf.reduce_mean(tf.cast(tf.equal(predicted, Y), dtype=tf.float64))"
   ]
  },
  {
   "cell_type": "code",
   "execution_count": 58,
   "metadata": {},
   "outputs": [
    {
     "name": "stderr",
     "output_type": "stream",
     "text": [
      "/var/folders/wm/j89vyk052m5bvrvn1dhfyflr0000gn/T/ipykernel_37294/3976155538.py:6: DeprecationWarning: Conversion of an array with ndim > 0 to a scalar is deprecated, and will error in future. Ensure you extract a single element from your array before performing this operation. (Deprecated NumPy 1.25.)\n",
      "  print(\"Step= %.f, a1= %.04f, a2= %.4f, loss= %.4f\"\n"
     ]
    },
    {
     "name": "stdout",
     "output_type": "stream",
     "text": [
      "Step= 300, a1= 0.8257, a2= 1.2306, loss= 0.0028\n",
      "Step= 600, a1= 0.9457, a2= 1.3801, loss= 0.0014\n",
      "Step= 900, a1= 1.0157, a2= 1.4699, loss= 0.0010\n",
      "Step= 1200, a1= 1.0651, a2= 1.5343, loss= 0.0007\n",
      "Step= 1500, a1= 1.1033, a2= 1.5846, loss= 0.0006\n",
      "Step= 1800, a1= 1.1344, a2= 1.6259, loss= 0.0005\n",
      "Step= 2100, a1= 1.1606, a2= 1.6609, loss= 0.0004\n",
      "Step= 2400, a1= 1.1832, a2= 1.6913, loss= 0.0004\n",
      "Step= 2700, a1= 1.2031, a2= 1.7181, loss= 0.0003\n",
      "Step= 3000, a1= 1.2209, a2= 1.7422, loss= 0.0003\n",
      "predicted= [[1.]\n",
      " [1.]\n",
      " [1.]\n",
      " [1.]\n",
      " [1.]\n",
      " [1.]\n",
      " [1.]]\n",
      "check predicted= [[1.]\n",
      " [1.]\n",
      " [1.]]\n",
      "check hypothesis= [[0.99997786]\n",
      " [1.        ]\n",
      " [0.99999943]]\n",
      "\n",
      "Hypothesis:  [[0.99978708]\n",
      " [0.99998147]\n",
      " [0.99999972]\n",
      " [1.        ]\n",
      " [1.        ]\n",
      " [1.        ]\n",
      " [1.        ]] \n",
      "Correct (Y):  [[1.]\n",
      " [1.]\n",
      " [1.]\n",
      " [1.]\n",
      " [1.]\n",
      " [1.]\n",
      " [1.]] \n",
      "Accuracy : 0.5714285714285714\n",
      "study hour: 7, the num of class: 6\n",
      "합격 가능성: 100.00 %\n",
      "예측 결과 [1.]\n"
     ]
    },
    {
     "name": "stderr",
     "output_type": "stream",
     "text": [
      "/var/folders/wm/j89vyk052m5bvrvn1dhfyflr0000gn/T/ipykernel_37294/3976155538.py:20: DeprecationWarning: Conversion of an array with ndim > 0 to a scalar is deprecated, and will error in future. Ensure you extract a single element from your array before performing this operation. (Deprecated NumPy 1.25.)\n",
      "  print(\"study hour: %d, the num of class: %d\" % (new_x[:, 0], new_x[:, 1]))\n",
      "/var/folders/wm/j89vyk052m5bvrvn1dhfyflr0000gn/T/ipykernel_37294/3976155538.py:21: DeprecationWarning: Conversion of an array with ndim > 0 to a scalar is deprecated, and will error in future. Ensure you extract a single element from your array before performing this operation. (Deprecated NumPy 1.25.)\n",
      "  print(\"합격 가능성: %6.2f %%\" % (new_y*100))\n"
     ]
    }
   ],
   "source": [
    "with tf.Session() as sess:\n",
    "    sess.run(tf.global_variables_initializer())\n",
    "    for i in range(3001):\n",
    "        a_, b_, loss_, _ = sess.run([a, b, loss, gradient_decent], feed_dict={X: x_data, Y: y_data})\n",
    "        if (i + 1) % 300 == 0:\n",
    "            print(\"Step= %.f, a1= %.04f, a2= %.4f, loss= %.4f\"\n",
    "                  % (i + 1, a_[0], a_[1], loss_))\n",
    "    print(\"predicted=\", sess.run(predicted, feed_dict={X: x_data}))\n",
    "\n",
    "    p_val, h_val = sess.run([predicted, y], feed_dict={X:[[1, 5], [10, 5], [4, 5]]})\n",
    "    print(\"check predicted=\", p_val)\n",
    "    print(\"check hypothesis=\", h_val)\n",
    "\n",
    "    h, c, a = sess.run([y, predicted, accuracy], feed_dict={X:x_data, Y: y_data})\n",
    "    print(\"\\nHypothesis: \", h, \"\\nCorrect (Y): \", c, \"\\nAccuracy :\", a )\n",
    "\n",
    "    new_x = np.array([7, 6.]).reshape(1, 2)\n",
    "    new_y, new_y_result = sess.run([y, predicted], feed_dict={X: new_x})\n",
    "\n",
    "    print(\"study hour: %d, the num of class: %d\" % (new_x[:, 0], new_x[:, 1]))\n",
    "    print(\"합격 가능성: %6.2f %%\" % (new_y*100))\n",
    "    print(\"예측 결과\", new_y_result[0])"
   ]
  },
  {
   "cell_type": "code",
   "execution_count": null,
   "metadata": {},
   "outputs": [],
   "source": []
  }
 ],
 "metadata": {
  "kernelspec": {
   "display_name": "base",
   "language": "python",
   "name": "python3"
  },
  "language_info": {
   "codemirror_mode": {
    "name": "ipython",
    "version": 3
   },
   "file_extension": ".py",
   "mimetype": "text/x-python",
   "name": "python",
   "nbconvert_exporter": "python",
   "pygments_lexer": "ipython3",
   "version": "3.11.7"
  }
 },
 "nbformat": 4,
 "nbformat_minor": 2
}
