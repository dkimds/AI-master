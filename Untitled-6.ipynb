{
 "cells": [
  {
   "cell_type": "markdown",
   "metadata": {},
   "source": [
    "당뇨 데이터 활용한 예측"
   ]
  },
  {
   "cell_type": "code",
   "execution_count": 1,
   "metadata": {},
   "outputs": [],
   "source": [
    "import tensorflow as tf\n",
    "import numpy as np\n",
    "import matplotlib.pyplot as plt"
   ]
  },
  {
   "cell_type": "code",
   "execution_count": 11,
   "metadata": {},
   "outputs": [],
   "source": [
    "data = np.loadtxt(\"data-03-diabetes.csv\", delimiter=',', dtype=np.float32)\n",
    "x_data = data[:,0:-1]\n",
    "y_data = data[:,[-1]]"
   ]
  },
  {
   "cell_type": "code",
   "execution_count": 12,
   "metadata": {},
   "outputs": [],
   "source": [
    "W = tf.Variable(tf.random.normal([8, 1]), name='weight')\n",
    "b = tf.Variable(tf.random.normal([1]), name='weight')\n"
   ]
  },
  {
   "cell_type": "code",
   "execution_count": 13,
   "metadata": {},
   "outputs": [],
   "source": [
    "def hypothesis(W, b):\n",
    "    return tf.sigmoid(tf.matmul(x_data, W) + b)"
   ]
  },
  {
   "cell_type": "code",
   "execution_count": 14,
   "metadata": {},
   "outputs": [],
   "source": [
    "def cost(W, b):\n",
    "    return -tf.reduce_mean(y_data * tf.math.log(hypothesis(W, b)) + \n",
    "                           (1 - y_data) * tf.math.log(1 - hypothesis(W, b)))"
   ]
  },
  {
   "cell_type": "code",
   "execution_count": 15,
   "metadata": {},
   "outputs": [],
   "source": [
    "def graph():\n",
    "    import matplotlib as mpl\n",
    "    mpl.rc('font', family='NanumGothic') # 한글 설정\n",
    "    mpl.rc('axes', unicode_minus=False)  # 음수부호 설정\n",
    "\n",
    "    fig, ax0 = plt.subplots()\n",
    "    ax1 = ax0.twinx()   # x축을 공유하는 두개의 y축\n",
    "    ax0.set_title(\"학습 회수에 따른 오차(cost)와 accuracy변화\")\n",
    "    ax0.plot(cost_arr, 'r-', label=\"y0\")\n",
    "    ax0.set_ylabel(\"y0\")\n",
    "    ax0.grid(True)\n",
    "    ax1.plot(accuracy_arr, 'b', label=\"y1\")\n",
    "    ax1.set_ylabel(\"y1\")\n",
    "    ax1.grid(False)\n",
    "    ax0.set_xlabel(\"epochs\")\n",
    "    plt.show()\n"
   ]
  },
  {
   "cell_type": "code",
   "execution_count": 16,
   "metadata": {},
   "outputs": [],
   "source": [
    "opt = tf.keras.optimizers.SGD(learning_rate=0.01)\n",
    "\n",
    "epoch_arr = []\n",
    "cost_arr = []\n",
    "accuracy_arr= []"
   ]
  },
  {
   "cell_type": "code",
   "execution_count": 17,
   "metadata": {},
   "outputs": [
    {
     "name": "stdout",
     "output_type": "stream",
     "text": [
      "epochs=0, cost=0.6249620914459229, W1=-0.35850077867507935, W2=-0.736665666103363, ... ,b=[0.41652003]\n",
      "epochs=200, cost=0.5734624266624451, W1=-0.323588490486145, W2=-0.8847116231918335, ... ,b=[0.20930487]\n",
      "epochs=400, cost=0.5557312369346619, W1=-0.3280479907989502, W2=-1.0011919736862183, ... ,b=[0.10619146]\n",
      "epochs=600, cost=0.546320915222168, W1=-0.3501077890396118, W2=-1.0999958515167236, ... ,b=[0.0543889]\n",
      "epochs=800, cost=0.5392381548881531, W1=-0.3781889081001282, W2=-1.1884679794311523, ... ,b=[0.02591557]\n",
      "epochs=1000, cost=0.5332409739494324, W1=-0.4072689116001129, W2=-1.2700661420822144, ... ,b=[0.00819954]\n",
      "epochs=1200, cost=0.5280098915100098, W1=-0.4353843927383423, W2=-1.3464510440826416, ... ,b=[-0.00415517]\n",
      "epochs=1400, cost=0.5234043002128601, W1=-0.4618555009365082, W2=-1.418495535850525, ... ,b=[-0.01348368]\n",
      "epochs=1600, cost=0.5193284153938293, W1=-0.48651769757270813, W2=-1.4867342710494995, ... ,b=[-0.02084471]\n",
      "epochs=1800, cost=0.5157060027122498, W1=-0.5094046592712402, W2=-1.5515412092208862, ... ,b=[-0.02676174]\n",
      "epochs=2000, cost=0.5124736428260803, W1=-0.530622124671936, W2=-1.6132107973098755, ... ,b=[-0.03152733]\n",
      "epochs=2200, cost=0.5095784068107605, W1=-0.5502955913543701, W2=-1.6719889640808105, ... ,b=[-0.03532929]\n",
      "epochs=2400, cost=0.5069757103919983, W1=-0.5685511827468872, W2=-1.7280911207199097, ... ,b=[-0.03830368]\n",
      "epochs=2600, cost=0.5046277642250061, W1=-0.5855072736740112, W2=-1.7817068099975586, ... ,b=[-0.04055782]\n",
      "epochs=2800, cost=0.5025025010108948, W1=-0.6012738347053528, W2=-1.8330085277557373, ... ,b=[-0.0421809]\n",
      "epochs=3000, cost=0.5005725622177124, W1=-0.6159507632255554, W2=-1.882150411605835, ... ,b=[-0.0432491]\n",
      "epochs=3200, cost=0.49881476163864136, W1=-0.6296284794807434, W2=-1.9292726516723633, ... ,b=[-0.04382838]\n",
      "epochs=3400, cost=0.4972090721130371, W1=-0.6423894166946411, W2=-1.9745025634765625, ... ,b=[-0.04397665]\n",
      "epochs=3600, cost=0.49573832750320435, W1=-0.6543079614639282, W2=-2.0179572105407715, ... ,b=[-0.04374478]\n",
      "epochs=3800, cost=0.49438756704330444, W1=-0.6654519438743591, W2=-2.0597424507141113, ... ,b=[-0.04317774]\n",
      "epochs=4000, cost=0.49314412474632263, W1=-0.6758829355239868, W2=-2.0999538898468018, ... ,b=[-0.04231538]\n",
      "epochs=4200, cost=0.4919968247413635, W1=-0.6856566667556763, W2=-2.138681173324585, ... ,b=[-0.04119311]\n",
      "epochs=4400, cost=0.49093568325042725, W1=-0.6948240995407104, W2=-2.176008701324463, ... ,b=[-0.03984229]\n",
      "epochs=4600, cost=0.48995232582092285, W1=-0.7034311294555664, W2=-2.2120091915130615, ... ,b=[-0.03829095]\n",
      "epochs=4800, cost=0.48903921246528625, W1=-0.7115203142166138, W2=-2.2467546463012695, ... ,b=[-0.036564]\n",
      "epochs=5000, cost=0.488189697265625, W1=-0.7191300392150879, W2=-2.2803092002868652, ... ,b=[-0.03468367]\n",
      "epochs=5200, cost=0.48739805817604065, W1=-0.7262957692146301, W2=-2.312731981277466, ... ,b=[-0.03266995]\n",
      "epochs=5400, cost=0.4866590201854706, W1=-0.733049750328064, W2=-2.3440794944763184, ... ,b=[-0.03054065]\n",
      "epochs=5600, cost=0.48596805334091187, W1=-0.7394212484359741, W2=-2.3744029998779297, ... ,b=[-0.02831171]\n",
      "epochs=5800, cost=0.485321044921875, W1=-0.7454378008842468, W2=-2.403749942779541, ... ,b=[-0.02599749]\n",
      "epochs=6000, cost=0.4847142696380615, W1=-0.7511237859725952, W2=-2.432166576385498, ... ,b=[-0.0236108]\n",
      "epochs=6200, cost=0.48414453864097595, W1=-0.7565022706985474, W2=-2.4596948623657227, ... ,b=[-0.02116315]\n",
      "epochs=6400, cost=0.48360884189605713, W1=-0.7615943551063538, W2=-2.4863739013671875, ... ,b=[-0.01866481]\n",
      "epochs=6600, cost=0.48310455679893494, W1=-0.7664194107055664, W2=-2.512240171432495, ... ,b=[-0.01612522]\n",
      "epochs=6800, cost=0.48262929916381836, W1=-0.7709951400756836, W2=-2.5373287200927734, ... ,b=[-0.01355254]\n",
      "epochs=7000, cost=0.4821809232234955, W1=-0.7753377556800842, W2=-2.5616722106933594, ... ,b=[-0.01095468]\n",
      "epochs=7200, cost=0.48175737261772156, W1=-0.779462993144989, W2=-2.585300922393799, ... ,b=[-0.00833717]\n",
      "epochs=7400, cost=0.4813569486141205, W1=-0.7833841443061829, W2=-2.6082441806793213, ... ,b=[-0.00570842]\n",
      "epochs=7600, cost=0.48097801208496094, W1=-0.7871144413948059, W2=-2.6305296421051025, ... ,b=[-0.00307298]\n",
      "epochs=7800, cost=0.4806191325187683, W1=-0.7906666994094849, W2=-2.6521811485290527, ... ,b=[-0.00043292]\n",
      "epochs=8000, cost=0.48027876019477844, W1=-0.7940515279769897, W2=-2.673224449157715, ... ,b=[0.00220557]\n",
      "epochs=8200, cost=0.47995585203170776, W1=-0.7972790598869324, W2=-2.6936821937561035, ... ,b=[0.00483735]\n",
      "epochs=8400, cost=0.47964924573898315, W1=-0.8003587126731873, W2=-2.7135767936706543, ... ,b=[0.00745987]\n",
      "epochs=8600, cost=0.4793577790260315, W1=-0.8032995462417603, W2=-2.7329280376434326, ... ,b=[0.01006983]\n",
      "epochs=8800, cost=0.4790806770324707, W1=-0.8061098456382751, W2=-2.751756429672241, ... ,b=[0.01266432]\n",
      "epochs=9000, cost=0.4788168668746948, W1=-0.8087971806526184, W2=-2.7700793743133545, ... ,b=[0.01524098]\n",
      "epochs=9200, cost=0.4785655736923218, W1=-0.8113685846328735, W2=-2.7879157066345215, ... ,b=[0.01779759]\n",
      "epochs=9400, cost=0.47832611203193665, W1=-0.8138309717178345, W2=-2.8052828311920166, ... ,b=[0.02033219]\n",
      "epochs=9600, cost=0.4780977964401245, W1=-0.8161904811859131, W2=-2.822195291519165, ... ,b=[0.02284304]\n",
      "epochs=9800, cost=0.4778798520565033, W1=-0.8184527158737183, W2=-2.8386690616607666, ... ,b=[0.02532855]\n",
      "epochs=10000, cost=0.4776718020439148, W1=-0.8206232786178589, W2=-2.854719400405884, ... ,b=[0.02778746]\n"
     ]
    }
   ],
   "source": [
    "for i in range(10001):  # epochs를 바꿔가며 accuracy 변화 체크\n",
    "    with tf.GradientTape() as tape:\n",
    "        cost_value = cost(W, b)\n",
    "    grads = tape.gradient(cost_value, [W, b])\n",
    "    opt.apply_gradients(zip(grads, [W, b]))\n",
    "  \n",
    "    predicted = tf.cast(hypothesis(W, b) > 0.5, dtype=tf.float32)\n",
    "    epoch_arr.append(i)\n",
    "    cost_arr.append(cost_value.numpy())\n",
    "    accuracy = np.mean(y_data == predicted)\n",
    "    accuracy_arr.append(accuracy)\n",
    "\n",
    "    if i % 200 == 0:\n",
    "        print(f'epochs={i}, cost={cost_value.numpy()}, W1={W.numpy()[0,0]}, W2={W.numpy()[1,0]}, ... ,b={b.numpy()}')\n",
    "    "
   ]
  },
  {
   "cell_type": "code",
   "execution_count": 18,
   "metadata": {},
   "outputs": [
    {
     "name": "stderr",
     "output_type": "stream",
     "text": [
      "findfont: Font family 'NanumGothic' not found.\n",
      "findfont: Font family 'NanumGothic' not found.\n",
      "findfont: Font family 'NanumGothic' not found.\n",
      "findfont: Font family 'NanumGothic' not found.\n",
      "findfont: Font family 'NanumGothic' not found.\n",
      "findfont: Font family 'NanumGothic' not found.\n",
      "findfont: Font family 'NanumGothic' not found.\n",
      "findfont: Font family 'NanumGothic' not found.\n",
      "findfont: Font family 'NanumGothic' not found.\n",
      "findfont: Font family 'NanumGothic' not found.\n",
      "findfont: Font family 'NanumGothic' not found.\n",
      "findfont: Font family 'NanumGothic' not found.\n",
      "findfont: Font family 'NanumGothic' not found.\n",
      "findfont: Font family 'NanumGothic' not found.\n",
      "findfont: Font family 'NanumGothic' not found.\n",
      "findfont: Font family 'NanumGothic' not found.\n",
      "findfont: Font family 'NanumGothic' not found.\n",
      "findfont: Font family 'NanumGothic' not found.\n",
      "findfont: Font family 'NanumGothic' not found.\n",
      "findfont: Font family 'NanumGothic' not found.\n",
      "/opt/anaconda3/lib/python3.11/site-packages/IPython/core/pylabtools.py:152: UserWarning: Glyph 54617 (\\N{HANGUL SYLLABLE HAG}) missing from font(s) DejaVu Sans.\n",
      "  fig.canvas.print_figure(bytes_io, **kw)\n",
      "/opt/anaconda3/lib/python3.11/site-packages/IPython/core/pylabtools.py:152: UserWarning: Glyph 49845 (\\N{HANGUL SYLLABLE SEUB}) missing from font(s) DejaVu Sans.\n",
      "  fig.canvas.print_figure(bytes_io, **kw)\n",
      "/opt/anaconda3/lib/python3.11/site-packages/IPython/core/pylabtools.py:152: UserWarning: Glyph 54924 (\\N{HANGUL SYLLABLE HOE}) missing from font(s) DejaVu Sans.\n",
      "  fig.canvas.print_figure(bytes_io, **kw)\n",
      "/opt/anaconda3/lib/python3.11/site-packages/IPython/core/pylabtools.py:152: UserWarning: Glyph 49688 (\\N{HANGUL SYLLABLE SU}) missing from font(s) DejaVu Sans.\n",
      "  fig.canvas.print_figure(bytes_io, **kw)\n",
      "/opt/anaconda3/lib/python3.11/site-packages/IPython/core/pylabtools.py:152: UserWarning: Glyph 50640 (\\N{HANGUL SYLLABLE E}) missing from font(s) DejaVu Sans.\n",
      "  fig.canvas.print_figure(bytes_io, **kw)\n",
      "/opt/anaconda3/lib/python3.11/site-packages/IPython/core/pylabtools.py:152: UserWarning: Glyph 46384 (\\N{HANGUL SYLLABLE DDA}) missing from font(s) DejaVu Sans.\n",
      "  fig.canvas.print_figure(bytes_io, **kw)\n",
      "/opt/anaconda3/lib/python3.11/site-packages/IPython/core/pylabtools.py:152: UserWarning: Glyph 47480 (\\N{HANGUL SYLLABLE REUN}) missing from font(s) DejaVu Sans.\n",
      "  fig.canvas.print_figure(bytes_io, **kw)\n",
      "/opt/anaconda3/lib/python3.11/site-packages/IPython/core/pylabtools.py:152: UserWarning: Glyph 50724 (\\N{HANGUL SYLLABLE O}) missing from font(s) DejaVu Sans.\n",
      "  fig.canvas.print_figure(bytes_io, **kw)\n",
      "/opt/anaconda3/lib/python3.11/site-packages/IPython/core/pylabtools.py:152: UserWarning: Glyph 52264 (\\N{HANGUL SYLLABLE CA}) missing from font(s) DejaVu Sans.\n",
      "  fig.canvas.print_figure(bytes_io, **kw)\n",
      "/opt/anaconda3/lib/python3.11/site-packages/IPython/core/pylabtools.py:152: UserWarning: Glyph 50752 (\\N{HANGUL SYLLABLE WA}) missing from font(s) DejaVu Sans.\n",
      "  fig.canvas.print_figure(bytes_io, **kw)\n",
      "/opt/anaconda3/lib/python3.11/site-packages/IPython/core/pylabtools.py:152: UserWarning: Glyph 48320 (\\N{HANGUL SYLLABLE BYEON}) missing from font(s) DejaVu Sans.\n",
      "  fig.canvas.print_figure(bytes_io, **kw)\n",
      "/opt/anaconda3/lib/python3.11/site-packages/IPython/core/pylabtools.py:152: UserWarning: Glyph 54868 (\\N{HANGUL SYLLABLE HWA}) missing from font(s) DejaVu Sans.\n",
      "  fig.canvas.print_figure(bytes_io, **kw)\n",
      "findfont: Font family 'NanumGothic' not found.\n",
      "findfont: Font family 'NanumGothic' not found.\n",
      "findfont: Font family 'NanumGothic' not found.\n",
      "findfont: Font family 'NanumGothic' not found.\n",
      "findfont: Font family 'NanumGothic' not found.\n",
      "findfont: Font family 'NanumGothic' not found.\n",
      "findfont: Font family 'NanumGothic' not found.\n",
      "findfont: Font family 'NanumGothic' not found.\n",
      "findfont: Font family 'NanumGothic' not found.\n",
      "findfont: Font family 'NanumGothic' not found.\n",
      "findfont: Font family 'NanumGothic' not found.\n",
      "findfont: Font family 'NanumGothic' not found.\n",
      "findfont: Font family 'NanumGothic' not found.\n",
      "findfont: Font family 'NanumGothic' not found.\n",
      "findfont: Font family 'NanumGothic' not found.\n",
      "findfont: Font family 'NanumGothic' not found.\n",
      "findfont: Font family 'NanumGothic' not found.\n",
      "findfont: Font family 'NanumGothic' not found.\n",
      "findfont: Font family 'NanumGothic' not found.\n",
      "findfont: Font family 'NanumGothic' not found.\n",
      "findfont: Font family 'NanumGothic' not found.\n",
      "findfont: Font family 'NanumGothic' not found.\n",
      "findfont: Font family 'NanumGothic' not found.\n",
      "findfont: Font family 'NanumGothic' not found.\n",
      "findfont: Font family 'NanumGothic' not found.\n",
      "findfont: Font family 'NanumGothic' not found.\n",
      "findfont: Font family 'NanumGothic' not found.\n",
      "findfont: Font family 'NanumGothic' not found.\n",
      "findfont: Font family 'NanumGothic' not found.\n",
      "findfont: Font family 'NanumGothic' not found.\n",
      "findfont: Font family 'NanumGothic' not found.\n",
      "findfont: Font family 'NanumGothic' not found.\n",
      "findfont: Font family 'NanumGothic' not found.\n",
      "findfont: Font family 'NanumGothic' not found.\n",
      "findfont: Font family 'NanumGothic' not found.\n",
      "findfont: Font family 'NanumGothic' not found.\n",
      "findfont: Font family 'NanumGothic' not found.\n",
      "findfont: Font family 'NanumGothic' not found.\n",
      "findfont: Font family 'NanumGothic' not found.\n",
      "findfont: Font family 'NanumGothic' not found.\n",
      "findfont: Font family 'NanumGothic' not found.\n",
      "findfont: Font family 'NanumGothic' not found.\n",
      "findfont: Font family 'NanumGothic' not found.\n",
      "findfont: Font family 'NanumGothic' not found.\n",
      "findfont: Font family 'NanumGothic' not found.\n",
      "findfont: Font family 'NanumGothic' not found.\n",
      "findfont: Font family 'NanumGothic' not found.\n",
      "findfont: Font family 'NanumGothic' not found.\n",
      "findfont: Font family 'NanumGothic' not found.\n",
      "findfont: Font family 'NanumGothic' not found.\n",
      "findfont: Font family 'NanumGothic' not found.\n",
      "findfont: Font family 'NanumGothic' not found.\n",
      "findfont: Font family 'NanumGothic' not found.\n",
      "findfont: Font family 'NanumGothic' not found.\n",
      "findfont: Font family 'NanumGothic' not found.\n",
      "findfont: Font family 'NanumGothic' not found.\n",
      "findfont: Font family 'NanumGothic' not found.\n",
      "findfont: Font family 'NanumGothic' not found.\n",
      "findfont: Font family 'NanumGothic' not found.\n"
     ]
    },
    {
     "data": {
      "image/png": "[encoded data removed]",
      "text/plain": [
       "<Figure size 640x480 with 2 Axes>"
      ]
     },
     "metadata": {},
     "output_type": "display_data"
    }
   ],
   "source": [
    "graph()"
   ]
  },
  {
   "cell_type": "code",
   "execution_count": 21,
   "metadata": {},
   "outputs": [
    {
     "name": "stdout",
     "output_type": "stream",
     "text": [
      "W =  [[-0.8206233 ]\n",
      " [-2.8547194 ]\n",
      " [-0.18509379]\n",
      " [-0.53013015]\n",
      " [-0.35972548]\n",
      " [-1.7057407 ]\n",
      " [-1.0612261 ]\n",
      " [-0.12824702]]\n",
      "b =  0.027787456\n",
      "Accuracy = 0.769433465085639\n"
     ]
    }
   ],
   "source": [
    "print(\"W = \", W.numpy())\n",
    "print(\"b = \", b.numpy()[0])\n",
    "\n",
    "predicted = tf.cast(hypothesis(W, b) > 0.5, dtype=tf.float64)\n",
    "accuracy = np.mean(y_data == predicted)\n",
    "\n",
    "print(\"Accuracy =\", accuracy)"
   ]
  },
  {
   "cell_type": "code",
   "execution_count": null,
   "metadata": {},
   "outputs": [],
   "source": []
  }
 ],
 "metadata": {
  "kernelspec": {
   "display_name": "base",
   "language": "python",
   "name": "python3"
  },
  "language_info": {
   "codemirror_mode": {
    "name": "ipython",
    "version": 3
   },
   "file_extension": ".py",
   "mimetype": "text/x-python",
   "name": "python",
   "nbconvert_exporter": "python",
   "pygments_lexer": "ipython3",
   "version": "3.11.7"
  }
 },
 "nbformat": 4,
 "nbformat_minor": 2
}
