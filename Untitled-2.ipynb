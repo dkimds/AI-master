{
 "cells": [
  {
   "cell_type": "code",
   "execution_count": 7,
   "metadata": {},
   "outputs": [
    {
     "data": {
      "text/plain": [
       "<bound method Model.summary of <Sequential name=sequential, built=True>>"
      ]
     },
     "execution_count": 7,
     "metadata": {},
     "output_type": "execute_result"
    }
   ],
   "source": [
    "import tensorflow as tf\n",
    "import sys \n",
    "import os\n",
    "from tensorflow.keras.models import load_model\n",
    "import matplotlib.pyplot as plt \n",
    "import numpy as np\n",
    "import cv2\n",
    "model = load_model('model/13-0.8676.keras')\n",
    "#model = load_model('/content/model_cnn/15-0.0595.hdf5')#colab₫ 79\n",
    "model.summary"
   ]
  },
  {
   "cell_type": "code",
   "execution_count": 9,
   "metadata": {},
   "outputs": [],
   "source": [
    "class_names = ['Airplane'\n",
    "                , 'Car', 'Birs', 'Cat'\n",
    "                ,'Deer', 'Dog'\n",
    "                ,'Frog', 'Horse'\n",
    "                , 'Ship', 'Truck']"
   ]
  },
  {
   "cell_type": "code",
   "execution_count": 18,
   "metadata": {},
   "outputs": [],
   "source": [
    "import tensorflow as tf \n",
    "from tensorflow.keras.preprocessing import image \n",
    "import numpy as np \n",
    "import matplotlib.pyplot as plt \n",
    "from PIL import Image\n",
    "from tensorflow.keras import datasets, layers, models \n",
    "from tensorflow import keras\n",
    "from tensorflow. keras. layers import Dense, Dropout, Flatten, Conv2D, MaxPooling2D"
   ]
  },
  {
   "cell_type": "code",
   "execution_count": 6,
   "metadata": {},
   "outputs": [],
   "source": [
    "from keras.preprocessing.image import img_to_array\n",
    "# 로컬 이미지 파일 경로\n",
    "image_path = 'cifa_test_img/2023071701753_0.jpg'\n",
    "# 이미지 로드\n",
    "img = Image.open(image_path)\n",
    "# 이미지 크기를 32x32로 변환\n",
    "img = img.resize((32, 32))\n",
    "# 이미지가 RGB 포맷인지 확인하고 변환\n",
    "if img.mode != 'RGB' :\n",
    "    img = img. convert('RGB')\n",
    "# 이미지를 배열로 변환하고 정규화\n",
    "img_array = img_to_array(img)"
   ]
  },
  {
   "cell_type": "code",
   "execution_count": 14,
   "metadata": {},
   "outputs": [
    {
     "data": {
      "image/png": "[encoded data removed]",
      "text/plain": [
       "<Figure size 640x480 with 1 Axes>"
      ]
     },
     "metadata": {},
     "output_type": "display_data"
    }
   ],
   "source": [
    "img_array = np.expand_dims(img_array, axis=0)\n",
    "# 배치 차원 추가\n",
    "#img_array = np.reshape(img_array, (1, 32, 32, 3))\n",
    "img_array= img_array / 255.0 # CIFAR-10과 동일하게 정규화 # 변환된 이미지 출력\n",
    "plt.imshow(img)\n",
    "plt. title('Preprocessed Image')\n",
    "plt.axis('off')\n",
    "plt.show()"
   ]
  },
  {
   "cell_type": "code",
   "execution_count": 8,
   "metadata": {},
   "outputs": [],
   "source": [
    "from glob import glob\n",
    "import pathlib\n",
    "img_path = 'cifa_test_img'\n",
    "file_list = glob(img_path + \"/*\")\n"
   ]
  },
  {
   "cell_type": "code",
   "execution_count": 10,
   "metadata": {},
   "outputs": [
    {
     "data": {
      "text/plain": [
       "['cifa_test_img/2023071701753_0.jpg',\n",
       " 'cifa_test_img/48AmSGHd7s9-Vov2VuWOhMK1sC-NnPsDOwsWb-jNnvLc-EOy2ay2gjIs2aoL-GrylnEnOE9rEeL_P7YfxFDmoA.webp',\n",
       " 'cifa_test_img/image_readtop_2019_937818_15736086053974580.jpg',\n",
       " 'cifa_test_img/sjj4nf93-FzbyPPBFkxeq6LD4QdsZSJvQcEVzvC98Gg2edRK_okaDu1Mp5obrZCmfxoRWnBl15xuZ9H3so_IQQ.webp',\n",
       " 'cifa_test_img/Aegypius_monachus.jpg']"
      ]
     },
     "execution_count": 10,
     "metadata": {},
     "output_type": "execute_result"
    }
   ],
   "source": [
    "file_list"
   ]
  },
  {
   "cell_type": "code",
   "execution_count": 16,
   "metadata": {},
   "outputs": [],
   "source": [
    "cifar_mnist = datasets.cifar10\n",
    "(train_images, train_labels), (test_images, test_labels) = cifar_mnist.load_data()\n",
    "num_classes = 10"
   ]
  },
  {
   "cell_type": "code",
   "execution_count": 22,
   "metadata": {},
   "outputs": [
    {
     "name": "stdout",
     "output_type": "stream",
     "text": [
      "\u001b[1m1/1\u001b[0m \u001b[32m━━━━━━━━━━━━━━━━━━━━\u001b[0m\u001b[37m\u001b[0m \u001b[1m0s\u001b[0m 85ms/step\n",
      "Predicted class: dog\n"
     ]
    }
   ],
   "source": [
    "model = models.load_model('model/13-0.8676.keras')\n",
    "                            # custom_objects={\"softmax_v2\": tf.nn.softmax}) # 모델을 저장한 경우 사용\n",
    "# 모델 예측\n",
    "predictions = model.predict(img_array)\n",
    "predicted_class = np.argmax(predictions)\n",
    "# CIFAR-10 클래스 이름\n",
    "class_names = ['airplane', 'automobile', 'bird', 'cat', 'deer', 'dog', 'frog', 'horse', 'ship',\n",
    "'truck' ]\n",
    "# 예측 결과 출력\n",
    "print(f'Predicted class: {class_names[predicted_class]}')"
   ]
  },
  {
   "cell_type": "code",
   "execution_count": null,
   "metadata": {},
   "outputs": [],
   "source": []
  }
 ],
 "metadata": {
  "kernelspec": {
   "display_name": "base",
   "language": "python",
   "name": "python3"
  },
  "language_info": {
   "codemirror_mode": {
    "name": "ipython",
    "version": 3
   },
   "file_extension": ".py",
   "mimetype": "text/x-python",
   "name": "python",
   "nbconvert_exporter": "python",
   "pygments_lexer": "ipython3",
   "version": "3.11.7"
  }
 },
 "nbformat": 4,
 "nbformat_minor": 2
}
